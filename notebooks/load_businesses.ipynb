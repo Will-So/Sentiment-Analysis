{
 "cells": [
  {
   "cell_type": "code",
   "execution_count": 58,
   "metadata": {
    "collapsed": true
   },
   "outputs": [],
   "source": [
    "def businesses_to_pandas(dir):\n",
    "    \"\"\"\n",
    "\n",
    "    Parameters\n",
    "    ----------\n",
    "    dir\n",
    "\n",
    "    Returns\n",
    "    -------\n",
    "\n",
    "    \"\"\"\n",
    "    data = load_json_file(dir + 'yelp_academic_dataset_business.json')\n",
    "    df = parse_large_df(data)\n",
    "\n",
    "    return df\n",
    "\n",
    "def parse_large_df(data, normalize=False):\n",
    "    \"\"\"\n",
    "    Hacky way to deal with dataframes that are large quickly from a json file.\n",
    "\n",
    "    Parameters\n",
    "    ----------\n",
    "    data: A list of the json files\n",
    "\n",
    "    Returns\n",
    "    -------\n",
    "    df: dataframe\n",
    "    \"\"\"\n",
    "    \n",
    "    minis = {}\n",
    "    for i in range(1, (len(data)), 10000):\n",
    "        j = i + 10000\n",
    "        data_json_str = \"[\" + ','.join(data[i:j]) + \"]\"\n",
    "        temp = pd.read_json(data_json_str)\n",
    "        minis[i] = temp\n",
    "        print(str(j) + ' rows in a df')\n",
    "\n",
    "        df = pd.DataFrame()\n",
    "    for i in range(1, (len(data)), 10000):\n",
    "        df = pd.concat([df, minis[i]], ignore_index=True, axis=0)\n",
    "        print('appending {}'.format(i))\n",
    "\n",
    "    return df\n",
    "\n",
    "\n",
    "\n",
    "def load_json_file(json_dir):\n",
    "    \"\"\"\n",
    "    Loads a json file with the directory\n",
    "\n",
    "    Returns\n",
    "    -------\n",
    "\n",
    "    \"\"\"\n",
    "    with open(json_dir) as jsonfile:\n",
    "        data = jsonfile.readlines()\n",
    "        # remove the trailing \"\\n\" from each line\n",
    "        data = list(map(lambda x: x.rstrip(), data))\n",
    "\n",
    "    return data\n"
   ]
  },
  {
   "cell_type": "code",
   "execution_count": 59,
   "metadata": {
    "collapsed": true
   },
   "outputs": [],
   "source": [
    "import pandas as pd\n",
    "DATA_DIR = '/Users/Will/Data/newest_yelp/'\n"
   ]
  },
  {
   "cell_type": "code",
   "execution_count": 60,
   "metadata": {
    "collapsed": false
   },
   "outputs": [],
   "source": [
    "data = load_json_file(DATA_DIR + 'yelp_academic_dataset_business.json')\n"
   ]
  },
  {
   "cell_type": "code",
   "execution_count": 37,
   "metadata": {
    "collapsed": false
   },
   "outputs": [
    {
     "ename": "AttributeError",
     "evalue": "'list' object has no attribute 'keys'",
     "output_type": "error",
     "traceback": [
      "\u001b[0;31m---------------------------------------------------------------------------\u001b[0m",
      "\u001b[0;31mAttributeError\u001b[0m                            Traceback (most recent call last)",
      "\u001b[0;32m<ipython-input-37-8689352af601>\u001b[0m in \u001b[0;36m<module>\u001b[0;34m()\u001b[0m\n\u001b[0;32m----> 1\u001b[0;31m \u001b[0mdata\u001b[0m\u001b[0;34m.\u001b[0m\u001b[0mkeys\u001b[0m\u001b[0;34m(\u001b[0m\u001b[0;34m)\u001b[0m\u001b[0;34m\u001b[0m\u001b[0m\n\u001b[0m",
      "\u001b[0;31mAttributeError\u001b[0m: 'list' object has no attribute 'keys'"
     ]
    }
   ],
   "source": [
    "data.keys()"
   ]
  },
  {
   "cell_type": "code",
   "execution_count": 9,
   "metadata": {
    "collapsed": true
   },
   "outputs": [],
   "source": [
    "from pandas.io.json import json_normalize"
   ]
  }
 ],
 "metadata": {
  "kernelspec": {
   "display_name": "Python 3",
   "language": "python",
   "name": "python3"
  },
  "language_info": {
   "codemirror_mode": {
    "name": "ipython",
    "version": 3
   },
   "file_extension": ".py",
   "mimetype": "text/x-python",
   "name": "python",
   "nbconvert_exporter": "python",
   "pygments_lexer": "ipython3",
   "version": "3.4.3"
  }
 },
 "nbformat": 4,
 "nbformat_minor": 0
}
