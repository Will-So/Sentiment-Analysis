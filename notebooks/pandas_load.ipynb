{
 "cells": [
  {
   "cell_type": "code",
   "execution_count": 2,
   "metadata": {
    "collapsed": false
   },
   "outputs": [],
   "source": [
    "import pandas as pd\n",
    "DATA_DIR = '/Users/Will/Data/newest_yelp/'\n"
   ]
  },
  {
   "cell_type": "code",
   "execution_count": 3,
   "metadata": {
    "collapsed": false
   },
   "outputs": [
    {
     "data": {
      "text/plain": [
       "'0.16.2'"
      ]
     },
     "execution_count": 3,
     "metadata": {},
     "output_type": "execute_result"
    }
   ],
   "source": [
    "pd.__version__"
   ]
  },
  {
   "cell_type": "markdown",
   "metadata": {},
   "source": [
    "# Exploring the dataset"
   ]
  },
  {
   "cell_type": "markdown",
   "metadata": {},
   "source": [
    "1.5m items"
   ]
  },
  {
   "cell_type": "markdown",
   "metadata": {},
   "source": [
    "## Extracting the Data"
   ]
  },
  {
   "cell_type": "code",
   "execution_count": null,
   "metadata": {
    "collapsed": false
   },
   "outputs": [],
   "source": [
    "import simplejson as json"
   ]
  },
  {
   "cell_type": "code",
   "execution_count": null,
   "metadata": {
    "collapsed": true
   },
   "outputs": [],
   "source": [
    "import os"
   ]
  },
  {
   "cell_type": "code",
   "execution_count": null,
   "metadata": {
    "collapsed": false
   },
   "outputs": [],
   "source": [
    "from pandas.io.json import json_normalize"
   ]
  },
  {
   "cell_type": "code",
   "execution_count": null,
   "metadata": {
    "collapsed": false
   },
   "outputs": [],
   "source": [
    "result = json_normalize(DATA_DIR)"
   ]
  },
  {
   "cell_type": "code",
   "execution_count": null,
   "metadata": {
    "collapsed": true
   },
   "outputs": [],
   "source": [
    "data = []"
   ]
  },
  {
   "cell_type": "code",
   "execution_count": null,
   "metadata": {
    "collapsed": false,
    "scrolled": true
   },
   "outputs": [],
   "source": [
    "with open(DATA_DIR + 'yelp_academic_dataset_review.json') as jsonfile:\n",
    "    for line in jsonfile:\n",
    "        unserialized = ujson.loads(line)\n",
    "        review = json_normalize(unserialized)\n",
    "        data.append(review)\n",
    "        length = len(data)\n",
    "        if length % 10000 == 0:\n",
    "            print('finished {} items'.format(length))\n",
    "#         if len(data) > 3000:\n",
    "#             break"
   ]
  },
  {
   "cell_type": "code",
   "execution_count": null,
   "metadata": {
    "collapsed": true
   },
   "outputs": [],
   "source": [
    "df = pd.DataFrame(data)"
   ]
  },
  {
   "cell_type": "code",
   "execution_count": null,
   "metadata": {
    "collapsed": true
   },
   "outputs": [],
   "source": [
    "df = pd.DataFrame()\n",
    "df = pd.concat([i for i in ])"
   ]
  },
  {
   "cell_type": "code",
   "execution_count": null,
   "metadata": {
    "collapsed": false,
    "scrolled": true
   },
   "outputs": [],
   "source": [
    "data[2]"
   ]
  },
  {
   "cell_type": "code",
   "execution_count": null,
   "metadata": {
    "collapsed": false,
    "scrolled": false
   },
   "outputs": [],
   "source": [
    "df.describe()"
   ]
  },
  {
   "cell_type": "code",
   "execution_count": null,
   "metadata": {
    "collapsed": false,
    "scrolled": false
   },
   "outputs": [],
   "source": [
    "!pwd"
   ]
  },
  {
   "cell_type": "code",
   "execution_count": null,
   "metadata": {
    "collapsed": false
   },
   "outputs": [],
   "source": [
    "import pickle\n",
    "with open('../data/list.pkl', 'wb') as picklefile:\n",
    "    pickle.dump(data, picklefile)"
   ]
  },
  {
   "cell_type": "code",
   "execution_count": 38,
   "metadata": {
    "collapsed": true
   },
   "outputs": [],
   "source": [
    "del data"
   ]
  },
  {
   "cell_type": "code",
   "execution_count": 4,
   "metadata": {
    "collapsed": false
   },
   "outputs": [],
   "source": [
    "with open(DATA_DIR + 'yelp_academic_dataset_review.json') as jsonfile:\n",
    "    data = jsonfile.readlines()\n",
    "    # remove the trailing \"\\n\" from each line\n",
    "    data = map(lambda x: x.rstrip(), data)"
   ]
  },
  {
   "cell_type": "code",
   "execution_count": 5,
   "metadata": {
    "collapsed": false
   },
   "outputs": [
    {
     "data": {
      "text/plain": [
       "list"
      ]
     },
     "execution_count": 5,
     "metadata": {},
     "output_type": "execute_result"
    }
   ],
   "source": [
    "type(data)"
   ]
  },
  {
   "cell_type": "code",
   "execution_count": 6,
   "metadata": {
    "collapsed": false
   },
   "outputs": [
    {
     "data": {
      "text/plain": [
       "'{\"votes\": {\"funny\": 0, \"useful\": 2, \"cool\": 1}, \"user_id\": \"Xqd0DzHaiyRqVH3WRG7hzg\", \"review_id\": \"15SdjuK7DmYqUAj6rjGowg\", \"stars\": 5, \"date\": \"2007-05-17\", \"text\": \"dr. goldberg offers everything i look for in a general practitioner.  he\\'s nice and easy to talk to without being patronizing; he\\'s always on time in seeing his patients; he\\'s affiliated with a top-notch hospital (nyu) which my parents have explained to me is very important in case something happens and you need surgery; and you can get referrals to see specialists without having to see him first.  really, what more do you need?  i\\'m sitting here trying to think of any complaints i have about him, but i\\'m really drawing a blank.\", \"type\": \"review\", \"business_id\": \"vcNAWiLM4dR7D2nwwJ7nCA\"}'"
      ]
     },
     "execution_count": 6,
     "metadata": {},
     "output_type": "execute_result"
    }
   ],
   "source": [
    "data[0]"
   ]
  },
  {
   "cell_type": "code",
   "execution_count": 7,
   "metadata": {
    "collapsed": false,
    "scrolled": true
   },
   "outputs": [],
   "source": [
    "df = pd.read_json(data[0])\n"
   ]
  },
  {
   "cell_type": "code",
   "execution_count": 8,
   "metadata": {
    "collapsed": false
   },
   "outputs": [
    {
     "name": "stdout",
     "output_type": "stream",
     "text": [
      "10001 rows in a df\n",
      "20001 rows in a df\n",
      "30001 rows in a df\n",
      "40001 rows in a df\n",
      "50001 rows in a df\n",
      "60001 rows in a df\n",
      "70001 rows in a df\n",
      "80001 rows in a df\n",
      "90001 rows in a df\n",
      "100001 rows in a df\n",
      "110001 rows in a df\n",
      "120001 rows in a df\n",
      "130001 rows in a df\n",
      "140001 rows in a df\n",
      "150001 rows in a df\n",
      "160001 rows in a df\n",
      "170001 rows in a df\n",
      "180001 rows in a df\n",
      "190001 rows in a df\n",
      "200001 rows in a df\n",
      "210001 rows in a df\n",
      "220001 rows in a df\n",
      "230001 rows in a df\n",
      "240001 rows in a df\n",
      "250001 rows in a df\n",
      "260001 rows in a df\n",
      "270001 rows in a df\n",
      "280001 rows in a df\n",
      "290001 rows in a df\n",
      "300001 rows in a df\n",
      "310001 rows in a df\n",
      "320001 rows in a df\n",
      "330001 rows in a df\n",
      "340001 rows in a df\n",
      "350001 rows in a df\n",
      "360001 rows in a df\n",
      "370001 rows in a df\n",
      "380001 rows in a df\n",
      "390001 rows in a df\n",
      "400001 rows in a df\n",
      "410001 rows in a df\n",
      "420001 rows in a df\n",
      "430001 rows in a df\n",
      "440001 rows in a df\n",
      "450001 rows in a df\n",
      "460001 rows in a df\n",
      "470001 rows in a df\n",
      "480001 rows in a df\n",
      "490001 rows in a df\n",
      "500001 rows in a df\n",
      "510001 rows in a df\n",
      "520001 rows in a df\n",
      "530001 rows in a df\n",
      "540001 rows in a df\n",
      "550001 rows in a df\n",
      "560001 rows in a df\n",
      "570001 rows in a df\n",
      "580001 rows in a df\n",
      "590001 rows in a df\n",
      "600001 rows in a df\n",
      "610001 rows in a df\n",
      "620001 rows in a df\n",
      "630001 rows in a df\n",
      "640001 rows in a df\n",
      "650001 rows in a df\n",
      "660001 rows in a df\n",
      "670001 rows in a df\n",
      "680001 rows in a df\n",
      "690001 rows in a df\n",
      "700001 rows in a df\n",
      "710001 rows in a df\n",
      "720001 rows in a df\n",
      "730001 rows in a df\n",
      "740001 rows in a df\n",
      "750001 rows in a df\n",
      "760001 rows in a df\n",
      "770001 rows in a df\n",
      "780001 rows in a df\n",
      "790001 rows in a df\n",
      "800001 rows in a df\n",
      "810001 rows in a df\n",
      "820001 rows in a df\n",
      "830001 rows in a df\n",
      "840001 rows in a df\n",
      "850001 rows in a df\n",
      "860001 rows in a df\n",
      "870001 rows in a df\n",
      "880001 rows in a df\n",
      "890001 rows in a df\n",
      "900001 rows in a df\n",
      "910001 rows in a df\n",
      "920001 rows in a df\n",
      "930001 rows in a df\n",
      "940001 rows in a df\n",
      "950001 rows in a df\n",
      "960001 rows in a df\n",
      "970001 rows in a df\n",
      "980001 rows in a df\n",
      "990001 rows in a df\n",
      "1000001 rows in a df\n",
      "1010001 rows in a df\n",
      "1020001 rows in a df\n",
      "1030001 rows in a df\n",
      "1040001 rows in a df\n",
      "1050001 rows in a df\n",
      "1060001 rows in a df\n",
      "1070001 rows in a df\n",
      "1080001 rows in a df\n",
      "1090001 rows in a df\n",
      "1100001 rows in a df\n",
      "1110001 rows in a df\n",
      "1120001 rows in a df\n",
      "1130001 rows in a df\n",
      "1140001 rows in a df\n",
      "1150001 rows in a df\n",
      "1160001 rows in a df\n",
      "1170001 rows in a df\n",
      "1180001 rows in a df\n",
      "1190001 rows in a df\n",
      "1200001 rows in a df\n",
      "1210001 rows in a df\n",
      "1220001 rows in a df\n",
      "1230001 rows in a df\n",
      "1240001 rows in a df\n",
      "1250001 rows in a df\n",
      "1260001 rows in a df\n",
      "1270001 rows in a df\n",
      "1280001 rows in a df\n",
      "1290001 rows in a df\n",
      "1300001 rows in a df\n",
      "1310001 rows in a df\n",
      "1320001 rows in a df\n",
      "1330001 rows in a df\n",
      "1340001 rows in a df\n",
      "1350001 rows in a df\n",
      "1360001 rows in a df\n",
      "1370001 rows in a df\n",
      "1380001 rows in a df\n",
      "1390001 rows in a df\n",
      "1400001 rows in a df\n",
      "1410001 rows in a df\n",
      "1420001 rows in a df\n",
      "1430001 rows in a df\n",
      "1440001 rows in a df\n",
      "1450001 rows in a df\n",
      "1460001 rows in a df\n",
      "1470001 rows in a df\n",
      "1480001 rows in a df\n",
      "1490001 rows in a df\n",
      "1500001 rows in a df\n",
      "1510001 rows in a df\n",
      "1520001 rows in a df\n",
      "1530001 rows in a df\n",
      "1540001 rows in a df\n",
      "1550001 rows in a df\n",
      "1560001 rows in a df\n",
      "1570001 rows in a df\n"
     ]
    }
   ],
   "source": [
    "minis = {}\n",
    "for i in range(1, (len(data)), 10000):\n",
    "    j = i + 10000\n",
    "    data_json_str = \"[\" + ','.join(data[i:j]) + \"]\"\n",
    "    temp = pd.read_json(data_json_str)\n",
    "    minis[i] = temp\n",
    "    print(str(j) + ' rows in a df')"
   ]
  },
  {
   "cell_type": "code",
   "execution_count": 11,
   "metadata": {
    "collapsed": false,
    "scrolled": true
   },
   "outputs": [
    {
     "name": "stdout",
     "output_type": "stream",
     "text": [
      "appending 1\n",
      "appending 10001\n",
      "appending 20001\n",
      "appending 30001\n",
      "appending 40001\n",
      "appending 50001\n",
      "appending 60001\n",
      "appending 70001\n",
      "appending 80001\n",
      "appending 90001\n",
      "appending 100001\n",
      "appending 110001\n",
      "appending 120001\n",
      "appending 130001\n",
      "appending 140001\n",
      "appending 150001\n",
      "appending 160001\n",
      "appending 170001\n",
      "appending 180001\n",
      "appending 190001\n",
      "appending 200001\n",
      "appending 210001\n",
      "appending 220001\n",
      "appending 230001\n",
      "appending 240001\n",
      "appending 250001\n",
      "appending 260001\n",
      "appending 270001\n",
      "appending 280001\n",
      "appending 290001\n",
      "appending 300001\n",
      "appending 310001\n",
      "appending 320001\n",
      "appending 330001\n",
      "appending 340001\n",
      "appending 350001\n",
      "appending 360001\n",
      "appending 370001\n",
      "appending 380001\n",
      "appending 390001\n",
      "appending 400001\n",
      "appending 410001\n",
      "appending 420001\n",
      "appending 430001\n",
      "appending 440001\n",
      "appending 450001\n",
      "appending 460001\n",
      "appending 470001\n",
      "appending 480001\n",
      "appending 490001\n",
      "appending 500001\n",
      "appending 510001\n",
      "appending 520001\n",
      "appending 530001\n",
      "appending 540001\n",
      "appending 550001\n",
      "appending 560001\n",
      "appending 570001\n",
      "appending 580001\n",
      "appending 590001\n",
      "appending 600001\n",
      "appending 610001\n",
      "appending 620001\n",
      "appending 630001\n",
      "appending 640001\n",
      "appending 650001\n",
      "appending 660001\n",
      "appending 670001\n",
      "appending 680001\n",
      "appending 690001\n",
      "appending 700001\n",
      "appending 710001\n",
      "appending 720001\n",
      "appending 730001\n",
      "appending 740001\n",
      "appending 750001\n",
      "appending 760001\n",
      "appending 770001\n",
      "appending 780001\n",
      "appending 790001\n",
      "appending 800001\n",
      "appending 810001\n",
      "appending 820001\n",
      "appending 830001\n",
      "appending 840001\n",
      "appending 850001\n",
      "appending 860001\n",
      "appending 870001\n",
      "appending 880001\n",
      "appending 890001\n",
      "appending 900001\n",
      "appending 910001\n",
      "appending 920001\n",
      "appending 930001\n",
      "appending 940001\n",
      "appending 950001\n",
      "appending 960001\n",
      "appending 970001\n",
      "appending 980001\n",
      "appending 990001\n",
      "appending 1000001\n",
      "appending 1010001\n",
      "appending 1020001\n",
      "appending 1030001\n",
      "appending 1040001\n",
      "appending 1050001\n",
      "appending 1060001\n",
      "appending 1070001\n",
      "appending 1080001\n",
      "appending 1090001\n",
      "appending 1100001\n",
      "appending 1110001\n",
      "appending 1120001\n",
      "appending 1130001\n",
      "appending 1140001\n",
      "appending 1150001\n",
      "appending 1160001\n",
      "appending 1170001\n",
      "appending 1180001\n",
      "appending 1190001\n",
      "appending 1200001\n",
      "appending 1210001\n",
      "appending 1220001\n",
      "appending 1230001\n",
      "appending 1240001\n",
      "appending 1250001\n",
      "appending 1260001\n",
      "appending 1270001\n",
      "appending 1280001\n",
      "appending 1290001\n",
      "appending 1300001\n",
      "appending 1310001\n",
      "appending 1320001\n",
      "appending 1330001\n",
      "appending 1340001\n",
      "appending 1350001\n",
      "appending 1360001\n",
      "appending 1370001\n",
      "appending 1380001\n",
      "appending 1390001\n",
      "appending 1400001\n",
      "appending 1410001\n",
      "appending 1420001\n",
      "appending 1430001\n",
      "appending 1440001\n",
      "appending 1450001\n",
      "appending 1460001\n",
      "appending 1470001\n",
      "appending 1480001\n",
      "appending 1490001\n",
      "appending 1500001\n",
      "appending 1510001\n",
      "appending 1520001\n",
      "appending 1530001\n",
      "appending 1540001\n",
      "appending 1550001\n",
      "appending 1560001\n"
     ]
    }
   ],
   "source": [
    "for i in range(1, (len(data)), 10000):\n",
    "    df = pd.concat([df, minis[i]], ignore_index=True, axis=0)\n",
    "    print('appending {}'.format(i))"
   ]
  },
  {
   "cell_type": "code",
   "execution_count": 19,
   "metadata": {
    "collapsed": true
   },
   "outputs": [],
   "source": [
    "df1 = df.convert_objects()"
   ]
  },
  {
   "cell_type": "code",
   "execution_count": 21,
   "metadata": {
    "collapsed": false,
    "scrolled": false
   },
   "outputs": [
    {
     "name": "stderr",
     "output_type": "stream",
     "text": [
      "/Users/Will/anaconda/envs/py27/lib/python2.7/site-packages/pandas/io/pytables.py:2577: PerformanceWarning: \n",
      "your performance may suffer as PyTables will pickle object types that it cannot\n",
      "map directly to c-types [inferred_type->unicode,key->axis0] [items->None]\n",
      "\n",
      "  warnings.warn(ws, PerformanceWarning)\n",
      "/Users/Will/anaconda/envs/py27/lib/python2.7/site-packages/pandas/io/pytables.py:2577: PerformanceWarning: \n",
      "your performance may suffer as PyTables will pickle object types that it cannot\n",
      "map directly to c-types [inferred_type->unicode,key->block0_items] [items->None]\n",
      "\n",
      "  warnings.warn(ws, PerformanceWarning)\n",
      "/Users/Will/anaconda/envs/py27/lib/python2.7/site-packages/pandas/io/pytables.py:2577: PerformanceWarning: \n",
      "your performance may suffer as PyTables will pickle object types that it cannot\n",
      "map directly to c-types [inferred_type->unicode,key->block1_items] [items->None]\n",
      "\n",
      "  warnings.warn(ws, PerformanceWarning)\n",
      "/Users/Will/anaconda/envs/py27/lib/python2.7/site-packages/pandas/io/pytables.py:2577: PerformanceWarning: \n",
      "your performance may suffer as PyTables will pickle object types that it cannot\n",
      "map directly to c-types [inferred_type->mixed-integer,key->block2_values] [items->[u'business_id', u'review_id', u'text', u'type', u'user_id', u'votes']]\n",
      "\n",
      "  warnings.warn(ws, PerformanceWarning)\n",
      "/Users/Will/anaconda/envs/py27/lib/python2.7/site-packages/pandas/io/pytables.py:2577: PerformanceWarning: \n",
      "your performance may suffer as PyTables will pickle object types that it cannot\n",
      "map directly to c-types [inferred_type->unicode,key->block2_items] [items->None]\n",
      "\n",
      "  warnings.warn(ws, PerformanceWarning)\n"
     ]
    }
   ],
   "source": [
    "df1.to_hdf('../data/df.hdf', 'df', mode='w', format='f')"
   ]
  },
  {
   "cell_type": "code",
   "execution_count": 18,
   "metadata": {
    "collapsed": false
   },
   "outputs": [
    {
     "name": "stdout",
     "output_type": "stream",
     "text": [
      "<class 'pandas.core.frame.DataFrame'>\n",
      "Int64Index: 1569266 entries, 0 to 1569265\n",
      "Data columns (total 8 columns):\n",
      "business_id    1569266 non-null object\n",
      "date           1569266 non-null datetime64[ns]\n",
      "review_id      1569266 non-null object\n",
      "stars          1569266 non-null int64\n",
      "text           1569266 non-null object\n",
      "type           1569266 non-null object\n",
      "user_id        1569266 non-null object\n",
      "votes          1569266 non-null object\n",
      "dtypes: datetime64[ns](1), int64(1), object(6)\n",
      "memory usage: 107.8+ MB\n"
     ]
    }
   ],
   "source": [
    "df.info()"
   ]
  },
  {
   "cell_type": "code",
   "execution_count": 10,
   "metadata": {
    "collapsed": false,
    "scrolled": true
   },
   "outputs": [
    {
     "data": {
      "text/plain": [
       "157"
      ]
     },
     "execution_count": 10,
     "metadata": {},
     "output_type": "execute_result"
    }
   ],
   "source": [
    "len(minis)"
   ]
  },
  {
   "cell_type": "code",
   "execution_count": 12,
   "metadata": {
    "collapsed": false
   },
   "outputs": [
    {
     "data": {
      "text/plain": [
       "10000"
      ]
     },
     "execution_count": 12,
     "metadata": {},
     "output_type": "execute_result"
    }
   ],
   "source": [
    "len(minis[10001])"
   ]
  },
  {
   "cell_type": "code",
   "execution_count": 14,
   "metadata": {
    "collapsed": false,
    "scrolled": true
   },
   "outputs": [
    {
     "ename": "ValueError",
     "evalue": "If using all scalar values, you must pass an index",
     "output_type": "error",
     "traceback": [
      "\u001b[0;31m---------------------------------------------------------------------------\u001b[0m",
      "\u001b[0;31mValueError\u001b[0m                                Traceback (most recent call last)",
      "\u001b[0;32m<ipython-input-14-617344a80b78>\u001b[0m in \u001b[0;36m<module>\u001b[0;34m()\u001b[0m\n\u001b[0;32m----> 1\u001b[0;31m \u001b[0mdf\u001b[0m \u001b[0;34m=\u001b[0m \u001b[0mpd\u001b[0m\u001b[0;34m.\u001b[0m\u001b[0mDataFrame\u001b[0m\u001b[0;34m(\u001b[0m\u001b[0mminis\u001b[0m\u001b[0;34m)\u001b[0m\u001b[0;34m\u001b[0m\u001b[0m\n\u001b[0m",
      "\u001b[0;32m/Users/Will/anaconda/envs/py34/lib/python3.4/site-packages/pandas/core/frame.py\u001b[0m in \u001b[0;36m__init__\u001b[0;34m(self, data, index, columns, dtype, copy)\u001b[0m\n\u001b[1;32m    225\u001b[0m                                  dtype=dtype, copy=copy)\n\u001b[1;32m    226\u001b[0m         \u001b[0;32melif\u001b[0m \u001b[0misinstance\u001b[0m\u001b[0;34m(\u001b[0m\u001b[0mdata\u001b[0m\u001b[0;34m,\u001b[0m \u001b[0mdict\u001b[0m\u001b[0;34m)\u001b[0m\u001b[0;34m:\u001b[0m\u001b[0;34m\u001b[0m\u001b[0m\n\u001b[0;32m--> 227\u001b[0;31m             \u001b[0mmgr\u001b[0m \u001b[0;34m=\u001b[0m \u001b[0mself\u001b[0m\u001b[0;34m.\u001b[0m\u001b[0m_init_dict\u001b[0m\u001b[0;34m(\u001b[0m\u001b[0mdata\u001b[0m\u001b[0;34m,\u001b[0m \u001b[0mindex\u001b[0m\u001b[0;34m,\u001b[0m \u001b[0mcolumns\u001b[0m\u001b[0;34m,\u001b[0m \u001b[0mdtype\u001b[0m\u001b[0;34m=\u001b[0m\u001b[0mdtype\u001b[0m\u001b[0;34m)\u001b[0m\u001b[0;34m\u001b[0m\u001b[0m\n\u001b[0m\u001b[1;32m    228\u001b[0m         \u001b[0;32melif\u001b[0m \u001b[0misinstance\u001b[0m\u001b[0;34m(\u001b[0m\u001b[0mdata\u001b[0m\u001b[0;34m,\u001b[0m \u001b[0mma\u001b[0m\u001b[0;34m.\u001b[0m\u001b[0mMaskedArray\u001b[0m\u001b[0;34m)\u001b[0m\u001b[0;34m:\u001b[0m\u001b[0;34m\u001b[0m\u001b[0m\n\u001b[1;32m    229\u001b[0m             \u001b[0;32mimport\u001b[0m \u001b[0mnumpy\u001b[0m\u001b[0;34m.\u001b[0m\u001b[0mma\u001b[0m\u001b[0;34m.\u001b[0m\u001b[0mmrecords\u001b[0m \u001b[0;32mas\u001b[0m \u001b[0mmrecords\u001b[0m\u001b[0;34m\u001b[0m\u001b[0m\n",
      "\u001b[0;32m/Users/Will/anaconda/envs/py34/lib/python3.4/site-packages/pandas/core/frame.py\u001b[0m in \u001b[0;36m_init_dict\u001b[0;34m(self, data, index, columns, dtype)\u001b[0m\n\u001b[1;32m    360\u001b[0m \u001b[0;34m\u001b[0m\u001b[0m\n\u001b[1;32m    361\u001b[0m         return _arrays_to_mgr(arrays, data_names, index, columns,\n\u001b[0;32m--> 362\u001b[0;31m                               dtype=dtype)\n\u001b[0m\u001b[1;32m    363\u001b[0m \u001b[0;34m\u001b[0m\u001b[0m\n\u001b[1;32m    364\u001b[0m     def _init_ndarray(self, values, index, columns, dtype=None,\n",
      "\u001b[0;32m/Users/Will/anaconda/envs/py34/lib/python3.4/site-packages/pandas/core/frame.py\u001b[0m in \u001b[0;36m_arrays_to_mgr\u001b[0;34m(arrays, arr_names, index, columns, dtype)\u001b[0m\n\u001b[1;32m   5090\u001b[0m     \u001b[0;31m# figure out the index, if necessary\u001b[0m\u001b[0;34m\u001b[0m\u001b[0;34m\u001b[0m\u001b[0m\n\u001b[1;32m   5091\u001b[0m     \u001b[0;32mif\u001b[0m \u001b[0mindex\u001b[0m \u001b[0;32mis\u001b[0m \u001b[0;32mNone\u001b[0m\u001b[0;34m:\u001b[0m\u001b[0;34m\u001b[0m\u001b[0m\n\u001b[0;32m-> 5092\u001b[0;31m         \u001b[0mindex\u001b[0m \u001b[0;34m=\u001b[0m \u001b[0mextract_index\u001b[0m\u001b[0;34m(\u001b[0m\u001b[0marrays\u001b[0m\u001b[0;34m)\u001b[0m\u001b[0;34m\u001b[0m\u001b[0m\n\u001b[0m\u001b[1;32m   5093\u001b[0m     \u001b[0;32melse\u001b[0m\u001b[0;34m:\u001b[0m\u001b[0;34m\u001b[0m\u001b[0m\n\u001b[1;32m   5094\u001b[0m         \u001b[0mindex\u001b[0m \u001b[0;34m=\u001b[0m \u001b[0m_ensure_index\u001b[0m\u001b[0;34m(\u001b[0m\u001b[0mindex\u001b[0m\u001b[0;34m)\u001b[0m\u001b[0;34m\u001b[0m\u001b[0m\n",
      "\u001b[0;32m/Users/Will/anaconda/envs/py34/lib/python3.4/site-packages/pandas/core/frame.py\u001b[0m in \u001b[0;36mextract_index\u001b[0;34m(data)\u001b[0m\n\u001b[1;32m   5129\u001b[0m \u001b[0;34m\u001b[0m\u001b[0m\n\u001b[1;32m   5130\u001b[0m         \u001b[0;32mif\u001b[0m \u001b[0;32mnot\u001b[0m \u001b[0mindexes\u001b[0m \u001b[0;32mand\u001b[0m \u001b[0;32mnot\u001b[0m \u001b[0mraw_lengths\u001b[0m\u001b[0;34m:\u001b[0m\u001b[0;34m\u001b[0m\u001b[0m\n\u001b[0;32m-> 5131\u001b[0;31m             raise ValueError('If using all scalar values, you must pass'\n\u001b[0m\u001b[1;32m   5132\u001b[0m                              ' an index')\n\u001b[1;32m   5133\u001b[0m \u001b[0;34m\u001b[0m\u001b[0m\n",
      "\u001b[0;31mValueError\u001b[0m: If using all scalar values, you must pass an index"
     ]
    }
   ],
   "source": [
    "df = pd.DataFrame(minis)"
   ]
  },
  {
   "cell_type": "code",
   "execution_count": null,
   "metadata": {
    "collapsed": true
   },
   "outputs": [],
   "source": []
  },
  {
   "cell_type": "code",
   "execution_count": 1,
   "metadata": {
    "collapsed": false,
    "scrolled": false
   },
   "outputs": [
    {
     "ename": "NameError",
     "evalue": "name 'df' is not defined",
     "output_type": "error",
     "traceback": [
      "\u001b[0;31m---------------------------------------------------------------------------\u001b[0m",
      "\u001b[0;31mNameError\u001b[0m                                 Traceback (most recent call last)",
      "\u001b[0;32m<ipython-input-1-7ed0097d7e9e>\u001b[0m in \u001b[0;36m<module>\u001b[0;34m()\u001b[0m\n\u001b[0;32m----> 1\u001b[0;31m \u001b[0mdf\u001b[0m\u001b[0;34m\u001b[0m\u001b[0m\n\u001b[0m",
      "\u001b[0;31mNameError\u001b[0m: name 'df' is not defined"
     ]
    }
   ],
   "source": [
    "df"
   ]
  },
  {
   "cell_type": "markdown",
   "metadata": {},
   "source": [
    "# Reading Businesses"
   ]
  },
  {
   "cell_type": "code",
   "execution_count": null,
   "metadata": {
    "collapsed": true
   },
   "outputs": [],
   "source": []
  }
 ],
 "metadata": {
  "kernelspec": {
   "display_name": "Python 2",
   "language": "python",
   "name": "python2"
  },
  "language_info": {
   "codemirror_mode": {
    "name": "ipython",
    "version": 2
   },
   "file_extension": ".py",
   "mimetype": "text/x-python",
   "name": "python",
   "nbconvert_exporter": "python",
   "pygments_lexer": "ipython2",
   "version": "2.7.10"
  }
 },
 "nbformat": 4,
 "nbformat_minor": 0
}
