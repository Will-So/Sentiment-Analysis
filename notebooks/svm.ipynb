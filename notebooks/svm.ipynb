{
 "cells": [
  {
   "cell_type": "code",
   "execution_count": 1,
   "metadata": {
    "collapsed": false
   },
   "outputs": [],
   "source": [
    "import sys\n",
    "sys.path.append('../scripts')"
   ]
  },
  {
   "cell_type": "code",
   "execution_count": 2,
   "metadata": {
    "collapsed": false,
    "scrolled": true
   },
   "outputs": [
    {
     "data": {
      "text/plain": [
       "['',\n",
       " '/home/ubuntu/anaconda3/lib/python34.zip',\n",
       " '/home/ubuntu/anaconda3/lib/python3.4',\n",
       " '/home/ubuntu/anaconda3/lib/python3.4/plat-linux',\n",
       " '/home/ubuntu/anaconda3/lib/python3.4/lib-dynload',\n",
       " '/home/ubuntu/anaconda3/lib/python3.4/site-packages/Sphinx-1.2.3-py3.4.egg',\n",
       " '/home/ubuntu/anaconda3/lib/python3.4/site-packages/setuptools-18.4-py3.4.egg',\n",
       " '/home/ubuntu/anaconda3/lib/python3.4/site-packages',\n",
       " '/home/ubuntu/anaconda3/lib/python3.4/site-packages/cryptography-0.9.3-py3.4-linux-x86_64.egg',\n",
       " '/home/ubuntu/anaconda3/lib/python3.4/site-packages/IPython/extensions',\n",
       " '/home/ubuntu/.ipython',\n",
       " '../scripts']"
      ]
     },
     "execution_count": 2,
     "metadata": {},
     "output_type": "execute_result"
    }
   ],
   "source": [
    "sys.path"
   ]
  },
  {
   "cell_type": "code",
   "execution_count": 4,
   "metadata": {
    "collapsed": true
   },
   "outputs": [],
   "source": [
    "import pandas as pd"
   ]
  },
  {
   "cell_type": "code",
   "execution_count": 5,
   "metadata": {
    "collapsed": false
   },
   "outputs": [],
   "source": [
    "data = pd.read_hdf('../data/test_train.hdf')\n"
   ]
  },
  {
   "cell_type": "code",
   "execution_count": 6,
   "metadata": {
    "collapsed": false
   },
   "outputs": [],
   "source": [
    "from sklearn.datasets import load_files\n",
    "from sklearn.feature_extraction.text import TfidfVectorizer\n",
    "from sklearn.grid_search import GridSearchCV\n",
    "from sklearn.pipeline import Pipeline\n",
    "from sklearn.svm import LinearSVC"
   ]
  },
  {
   "cell_type": "code",
   "execution_count": 7,
   "metadata": {
    "collapsed": false,
    "scrolled": false
   },
   "outputs": [
    {
     "data": {
      "text/html": [
       "<div>\n",
       "<table border=\"1\" class=\"dataframe\">\n",
       "  <thead>\n",
       "    <tr style=\"text-align: right;\">\n",
       "      <th></th>\n",
       "      <th>text</th>\n",
       "      <th>target</th>\n",
       "    </tr>\n",
       "  </thead>\n",
       "  <tbody>\n",
       "    <tr>\n",
       "      <th>0</th>\n",
       "      <td>this place was delicious  my parents saw a rec...</td>\n",
       "      <td>1</td>\n",
       "    </tr>\n",
       "    <tr>\n",
       "      <th>1</th>\n",
       "      <td>cant miss stop for the best fish sandwich in p...</td>\n",
       "      <td>1</td>\n",
       "    </tr>\n",
       "  </tbody>\n",
       "</table>\n",
       "</div>"
      ],
      "text/plain": [
       "                                                text  target\n",
       "0  this place was delicious  my parents saw a rec...       1\n",
       "1  cant miss stop for the best fish sandwich in p...       1"
      ]
     },
     "execution_count": 7,
     "metadata": {},
     "output_type": "execute_result"
    }
   ],
   "source": [
    "data.head(2)"
   ]
  },
  {
   "cell_type": "code",
   "execution_count": 8,
   "metadata": {
    "collapsed": false
   },
   "outputs": [],
   "source": [
    "vect = TfidfVectorizer()\n",
    "X = vect.fit_transform(data.text)"
   ]
  },
  {
   "cell_type": "code",
   "execution_count": 11,
   "metadata": {
    "collapsed": false
   },
   "outputs": [],
   "source": [
    "from sklearn.cross_validation import train_test_split\n",
    "X_train, X_test, y_train, y_test = train_test_split(data.text, data.target,\n",
    "                                                     test_size=.1, random_state=123)"
   ]
  },
  {
   "cell_type": "code",
   "execution_count": 12,
   "metadata": {
    "collapsed": false
   },
   "outputs": [],
   "source": [
    "params = {\"tfidf__ngram_range\": [(1, 1), (1, 2)],\n",
    "          \"svc__C\": [.01, .1, 1, 10, 100]}\n",
    "\n",
    "clf = Pipeline([(\"tfidf\", TfidfVectorizer(sublinear_tf=True)),\n",
    "                (\"svc\", LinearSVC())])\n",
    "\n",
    "gs = GridSearchCV(clf, params, verbose=2, n_jobs=-1)\n"
   ]
  },
  {
   "cell_type": "code",
   "execution_count": 13,
   "metadata": {
    "collapsed": false,
    "scrolled": true
   },
   "outputs": [
    {
     "name": "stdout",
     "output_type": "stream",
     "text": [
      "Fitting 3 folds for each of 10 candidates, totalling 30 fits\n"
     ]
    },
    {
     "name": "stderr",
     "output_type": "stream",
     "text": [
      "[Parallel(n_jobs=-1)]: Done   1 jobs       | elapsed:  4.0min\n",
      "[Parallel(n_jobs=-1)]: Done  16 out of  30 | elapsed: 15.2min remaining: 13.3min\n",
      "[Parallel(n_jobs=-1)]: Done  30 out of  30 | elapsed: 51.1min finished\n"
     ]
    },
    {
     "name": "stdout",
     "output_type": "stream",
     "text": [
      "Pipeline(steps=[('tfidf', TfidfVectorizer(analyzer='word', binary=False, decode_error='strict',\n",
      "        dtype=<class 'numpy.int64'>, encoding='utf-8', input='content',\n",
      "        lowercase=True, max_df=1.0, max_features=None, min_df=1,\n",
      "        ngram_range=(1, 2), norm='l2', preprocessor=None, smooth_idf=True,\n",
      " ...ax_iter=1000,\n",
      "     multi_class='ovr', penalty='l2', random_state=None, tol=0.0001,\n",
      "     verbose=0))])\n",
      "0.849640682113\n",
      "[CV] tfidf__ngram_range=(1, 1), svc__C=0.01 ..........................\n",
      "[CV] tfidf__ngram_range=(1, 1), svc__C=0.01 ..........................\n",
      "[CV] tfidf__ngram_range=(1, 1), svc__C=0.01 ..........................\n",
      "[CV] tfidf__ngram_range=(1, 2), svc__C=0.01 ..........................\n",
      "[CV] tfidf__ngram_range=(1, 2), svc__C=0.01 ..........................\n",
      "[CV] tfidf__ngram_range=(1, 2), svc__C=0.01 ..........................\n",
      "[CV] tfidf__ngram_range=(1, 1), svc__C=0.1 ...........................\n",
      "[CV] tfidf__ngram_range=(1, 1), svc__C=0.1 ...........................\n",
      "[CV] tfidf__ngram_range=(1, 1), svc__C=0.1 ...........................\n",
      "[CV] tfidf__ngram_range=(1, 2), svc__C=0.1 ...........................\n",
      "[CV] tfidf__ngram_range=(1, 2), svc__C=0.1 ...........................\n",
      "[CV] tfidf__ngram_range=(1, 2), svc__C=0.1 ...........................\n",
      "[CV] tfidf__ngram_range=(1, 1), svc__C=1 .............................\n",
      "[CV] tfidf__ngram_range=(1, 1), svc__C=1 .............................\n",
      "[CV] tfidf__ngram_range=(1, 1), svc__C=1 .............................\n",
      "[CV] tfidf__ngram_range=(1, 2), svc__C=1 .............................\n",
      "[CV] tfidf__ngram_range=(1, 2), svc__C=1 .............................\n",
      "[CV] tfidf__ngram_range=(1, 2), svc__C=1 .............................\n",
      "[CV] tfidf__ngram_range=(1, 1), svc__C=10 ............................\n",
      "[CV] tfidf__ngram_range=(1, 1), svc__C=10 ............................\n",
      "[CV] tfidf__ngram_range=(1, 1), svc__C=10 ............................\n",
      "[CV] tfidf__ngram_range=(1, 2), svc__C=10 ............................\n",
      "[CV] tfidf__ngram_range=(1, 2), svc__C=10 ............................\n",
      "[CV] tfidf__ngram_range=(1, 2), svc__C=10 ............................\n",
      "[CV] tfidf__ngram_range=(1, 1), svc__C=100 ...........................\n",
      "[CV] tfidf__ngram_range=(1, 1), svc__C=100 ...........................\n",
      "[CV] tfidf__ngram_range=(1, 1), svc__C=100 ...........................\n",
      "[CV] tfidf__ngram_range=(1, 2), svc__C=100 ...........................\n",
      "[CV] tfidf__ngram_range=(1, 2), svc__C=100 ...........................\n",
      "[CV] tfidf__ngram_range=(1, 2), svc__C=100 ...........................\n",
      "[CV] ................. tfidf__ngram_range=(1, 1), svc__C=0.01 - 3.9min[CV] ................. tfidf__ngram_range=(1, 1), svc__C=0.01 - 3.9min[CV] ................. tfidf__ngram_range=(1, 1), svc__C=0.01 - 4.1min[CV] ................. tfidf__ngram_range=(1, 2), svc__C=0.01 -13.2min[CV] ................. tfidf__ngram_range=(1, 2), svc__C=0.01 -13.1min[CV] ................. tfidf__ngram_range=(1, 2), svc__C=0.01 -13.2min[CV] .................. tfidf__ngram_range=(1, 1), svc__C=0.1 - 4.1min[CV] .................. tfidf__ngram_range=(1, 1), svc__C=0.1 - 4.3min[CV] .................. tfidf__ngram_range=(1, 1), svc__C=0.1 - 4.2min[CV] .................. tfidf__ngram_range=(1, 2), svc__C=0.1 -13.1min[CV] .................. tfidf__ngram_range=(1, 2), svc__C=0.1 -13.2min[CV] .................. tfidf__ngram_range=(1, 2), svc__C=0.1 -13.0min[CV] .................... tfidf__ngram_range=(1, 1), svc__C=1 - 5.2min[CV] .................... tfidf__ngram_range=(1, 1), svc__C=1 - 5.3min[CV] .................... tfidf__ngram_range=(1, 1), svc__C=1 - 5.3min[CV] .................... tfidf__ngram_range=(1, 2), svc__C=1 -14.5min[CV] .................... tfidf__ngram_range=(1, 2), svc__C=1 -14.7min[CV] .................... tfidf__ngram_range=(1, 2), svc__C=1 -14.5min[CV] ................... tfidf__ngram_range=(1, 1), svc__C=10 -15.2min[CV] ................... tfidf__ngram_range=(1, 1), svc__C=10 -15.5min[CV] ................... tfidf__ngram_range=(1, 1), svc__C=10 -13.8min[CV] ................... tfidf__ngram_range=(1, 2), svc__C=10 -31.9min[CV] ................... tfidf__ngram_range=(1, 2), svc__C=10 -30.6min[CV] ................... tfidf__ngram_range=(1, 2), svc__C=10 -26.8min[CV] .................. tfidf__ngram_range=(1, 1), svc__C=100 -27.0min[CV] .................. tfidf__ngram_range=(1, 1), svc__C=100 -28.2min[CV] .................. tfidf__ngram_range=(1, 1), svc__C=100 -28.3min[CV] .................. tfidf__ngram_range=(1, 2), svc__C=100 -49.9min[CV] .................. tfidf__ngram_range=(1, 2), svc__C=100 -47.5min[CV] .................. tfidf__ngram_range=(1, 2), svc__C=100 -49.1min\n",
      "\n",
      "\n",
      "\n",
      "\n",
      "\n",
      "\n",
      "\n",
      "\n",
      "\n",
      "\n",
      "\n",
      "\n",
      "\n",
      "\n",
      "\n",
      "\n",
      "\n",
      "\n",
      "\n",
      "\n",
      "\n",
      "\n",
      "\n",
      "\n",
      "\n",
      "\n",
      "\n",
      "\n",
      "\n"
     ]
    }
   ],
   "source": [
    "gs.fit(data.text, data.target)\n",
    "print(gs.best_estimator_)\n",
    "print(gs.best_score_)"
   ]
  },
  {
   "cell_type": "code",
   "execution_count": 14,
   "metadata": {
    "collapsed": false
   },
   "outputs": [
    {
     "data": {
      "text/plain": [
       "2"
      ]
     },
     "execution_count": 14,
     "metadata": {},
     "output_type": "execute_result"
    }
   ],
   "source": []
  },
  {
   "cell_type": "code",
   "execution_count": 125,
   "metadata": {
    "collapsed": false,
    "scrolled": false
   },
   "outputs": [
    {
     "name": "stdout",
     "output_type": "stream",
     "text": [
      "time: 356 ms\n"
     ]
    }
   ],
   "source": [
    "model = clf.fit(sample_X, sample_y)"
   ]
  },
  {
   "cell_type": "code",
   "execution_count": 126,
   "metadata": {
    "collapsed": false,
    "scrolled": true
   },
   "outputs": [
    {
     "name": "stdout",
     "output_type": "stream",
     "text": [
      "time: 20.9 ms\n"
     ]
    }
   ],
   "source": [
    "pred_y = model.predict(X[10000:20000])"
   ]
  },
  {
   "cell_type": "code",
   "execution_count": 127,
   "metadata": {
    "collapsed": false,
    "scrolled": false
   },
   "outputs": [
    {
     "data": {
      "text/plain": [
       "(10000, 10000)"
      ]
     },
     "execution_count": 127,
     "metadata": {},
     "output_type": "execute_result"
    },
    {
     "name": "stdout",
     "output_type": "stream",
     "text": [
      "time: 2.46 ms\n"
     ]
    }
   ],
   "source": [
    "len(pred_y), len(data.target[10000:20000])"
   ]
  },
  {
   "cell_type": "code",
   "execution_count": 131,
   "metadata": {
    "collapsed": false,
    "scrolled": true
   },
   "outputs": [
    {
     "data": {
      "text/plain": [
       "0.75839999999999996"
      ]
     },
     "execution_count": 131,
     "metadata": {},
     "output_type": "execute_result"
    },
    {
     "name": "stdout",
     "output_type": "stream",
     "text": [
      "time: 15.3 ms\n"
     ]
    }
   ],
   "source": [
    "model.score(X[10000:20000], data.target[10000:20000])"
   ]
  },
  {
   "cell_type": "code",
   "execution_count": 24,
   "metadata": {
    "collapsed": false,
    "scrolled": false
   },
   "outputs": [],
   "source": [
    "from sklearn.metrics import confusion_matrix"
   ]
  },
  {
   "cell_type": "code",
   "execution_count": 161,
   "metadata": {
    "collapsed": false,
    "scrolled": true
   },
   "outputs": [
    {
     "data": {
      "text/plain": [
       "array([[1558,  264,  320],\n",
       "       [ 350,  525,  963],\n",
       "       [ 173,  346, 5501]])"
      ]
     },
     "execution_count": 161,
     "metadata": {},
     "output_type": "execute_result"
    },
    {
     "name": "stdout",
     "output_type": "stream",
     "text": [
      "time: 11.8 ms\n"
     ]
    }
   ],
   "source": [
    "confusion_matrix(data.target[10000:20000],pred_y)"
   ]
  },
  {
   "cell_type": "code",
   "execution_count": 162,
   "metadata": {
    "collapsed": false,
    "scrolled": false
   },
   "outputs": [
    {
     "name": "stdout",
     "output_type": "stream",
     "text": [
      "time: 10.5 ms\n"
     ]
    }
   ],
   "source": [
    "cm = confusion_matrix(data.target[10000:20000],pred_y)\n",
    "cm_normalized = cm.astype('float') / cm.sum(axis=1)[:, np.newaxis]"
   ]
  },
  {
   "cell_type": "code",
   "execution_count": 20,
   "metadata": {
    "collapsed": false
   },
   "outputs": [
    {
     "name": "stdout",
     "output_type": "stream",
     "text": [
      "Populating the interactive namespace from numpy and matplotlib\n"
     ]
    },
    {
     "name": "stderr",
     "output_type": "stream",
     "text": [
      "WARNING: pylab import has clobbered these variables: ['clf']\n",
      "`%matplotlib` prevents importing * from pylab and numpy\n"
     ]
    }
   ],
   "source": [
    "%pylab inline\n",
    "def plot_confusion_matrix(cm, title='Confusion matrix', cmap=plt.cm.Blues):\n",
    "    plt.imshow(cm, interpolation='nearest', cmap=cmap)\n",
    "    plt.title(title)\n",
    "    plt.colorbar()\n",
    "    tick_marks = np.arange(len(data.target.unique()))\n",
    "    plt.xticks(tick_marks, [-1,0,1], rotation=45)\n",
    "    plt.yticks(tick_marks, [-1,0,1])\n",
    "    plt.tight_layout()\n",
    "    plt.ylabel('True label')\n",
    "    plt.xlabel('Predicted label')"
   ]
  },
  {
   "cell_type": "code",
   "execution_count": 167,
   "metadata": {
    "collapsed": false
   },
   "outputs": [
    {
     "name": "stderr",
     "output_type": "stream",
     "text": [
      "/Users/Will/anaconda/envs/py34/lib/python3.4/site-packages/matplotlib/collections.py:590: FutureWarning: elementwise comparison failed; returning scalar instead, but in the future will perform elementwise comparison\n",
      "  if self._edgecolors == str('face'):\n"
     ]
    },
    {
     "data": {
      "image/png": "[encoded data removed]",
      "text/plain": [
       "<matplotlib.figure.Figure at 0x129a5edd8>"
      ]
     },
     "metadata": {},
     "output_type": "display_data"
    },
    {
     "name": "stdout",
     "output_type": "stream",
     "text": [
      "time: 294 ms\n"
     ]
    }
   ],
   "source": [
    "plot_confusion_matrix(cm)"
   ]
  },
  {
   "cell_type": "code",
   "execution_count": 165,
   "metadata": {
    "collapsed": false
   },
   "outputs": [
    {
     "data": {
      "text/plain": [
       "array([[ 0.72735761,  0.1232493 ,  0.14939309],\n",
       "       [ 0.19042437,  0.28563656,  0.52393906],\n",
       "       [ 0.02873754,  0.05747508,  0.91378738]])"
      ]
     },
     "execution_count": 165,
     "metadata": {},
     "output_type": "execute_result"
    },
    {
     "name": "stdout",
     "output_type": "stream",
     "text": [
      "time: 2.46 ms\n"
     ]
    }
   ],
   "source": [
    "cm_normalized"
   ]
  },
  {
   "cell_type": "code",
   "execution_count": 163,
   "metadata": {
    "collapsed": false,
    "scrolled": true
   },
   "outputs": [
    {
     "name": "stdout",
     "output_type": "stream",
     "text": [
      "time: 1.1 ms\n"
     ]
    }
   ],
   "source": [
    "cm_normalized = cm.astype('float') / cm.sum(axis=1)[:, np.newaxis]"
   ]
  },
  {
   "cell_type": "code",
   "execution_count": 166,
   "metadata": {
    "collapsed": false,
    "scrolled": false
   },
   "outputs": [
    {
     "name": "stderr",
     "output_type": "stream",
     "text": [
      "/Users/Will/anaconda/envs/py34/lib/python3.4/site-packages/matplotlib/collections.py:590: FutureWarning: elementwise comparison failed; returning scalar instead, but in the future will perform elementwise comparison\n",
      "  if self._edgecolors == str('face'):\n"
     ]
    },
    {
     "data": {
      "image/png": "[encoded data removed]",
      "text/plain": [
       "<matplotlib.figure.Figure at 0x12997e7b8>"
      ]
     },
     "metadata": {},
     "output_type": "display_data"
    },
    {
     "name": "stdout",
     "output_type": "stream",
     "text": [
      "time: 238 ms\n"
     ]
    }
   ],
   "source": [
    "plot_confusion_matrix(cm_normalized)"
   ]
  },
  {
   "cell_type": "code",
   "execution_count": 144,
   "metadata": {
    "collapsed": false
   },
   "outputs": [
    {
     "data": {
      "text/plain": [
       "array([[-0.38509716,  0.09841498,  0.        , ...,  0.        ,\n",
       "         0.        ,  0.        ],\n",
       "       [ 0.79482294,  0.22374908,  0.        , ...,  0.        ,\n",
       "         0.        ,  0.        ],\n",
       "       [-0.50053328, -0.32161243,  0.        , ...,  0.        ,\n",
       "         0.        ,  0.        ]])"
      ]
     },
     "execution_count": 144,
     "metadata": {},
     "output_type": "execute_result"
    },
    {
     "name": "stdout",
     "output_type": "stream",
     "text": [
      "time: 2.16 ms\n"
     ]
    }
   ],
   "source": [
    "model.coef_"
   ]
  },
  {
   "cell_type": "code",
   "execution_count": 67,
   "metadata": {
    "collapsed": false
   },
   "outputs": [
    {
     "name": "stdout",
     "output_type": "stream",
     "text": [
      "time: 873 µs\n"
     ]
    }
   ],
   "source": [
    "from sklearn.linear_model import RidgeClassifier"
   ]
  },
  {
   "cell_type": "code",
   "execution_count": 15,
   "metadata": {
    "collapsed": true
   },
   "outputs": [],
   "source": [
    "from sklearn.externals import joblib"
   ]
  },
  {
   "cell_type": "code",
   "execution_count": 17,
   "metadata": {
    "collapsed": false
   },
   "outputs": [
    {
     "data": {
      "text/plain": [
       "['../model/svc.pkl',\n",
       " '../model/svc.pkl_01.npy',\n",
       " '../model/svc.pkl_02.npy',\n",
       " '../model/svc.pkl_03.npy',\n",
       " '../model/svc.pkl_04.npy',\n",
       " '../model/svc.pkl_05.npy',\n",
       " '../model/svc.pkl_06.npy',\n",
       " '../model/svc.pkl_07.npy',\n",
       " '../model/svc.pkl_08.npy',\n",
       " '../model/svc.pkl_09.npy',\n",
       " '../model/svc.pkl_10.npy',\n",
       " '../model/svc.pkl_11.npy',\n",
       " '../model/svc.pkl_12.npy',\n",
       " '../model/svc.pkl_13.npy',\n",
       " '../model/svc.pkl_14.npy',\n",
       " '../model/svc.pkl_15.npy']"
      ]
     },
     "execution_count": 17,
     "metadata": {},
     "output_type": "execute_result"
    }
   ],
   "source": [
    "joblib.dump(gs, '../model/svc.pkl')"
   ]
  },
  {
   "cell_type": "code",
   "execution_count": null,
   "metadata": {
    "collapsed": true
   },
   "outputs": [],
   "source": [
    "RidgeClassifierCV"
   ]
  },
  {
   "cell_type": "code",
   "execution_count": 13,
   "metadata": {
    "collapsed": true
   },
   "outputs": [],
   "source": [
    "from sklearn.ensemble import RandomForestRegressor"
   ]
  },
  {
   "cell_type": "code",
   "execution_count": 22,
   "metadata": {
    "collapsed": true
   },
   "outputs": [],
   "source": [
    "    vect = TfidfVectorizer()\n",
    "    X = vect.fit_transform(data.text)\n",
    "def train_rf_reg(data):\n",
    "\n",
    "    print('finished vectorizing')\n",
    "    rf = RandomForestRegressor(n_estimators=100, max_features='sqrt',\n",
    "                              oob_score=True, n_jobs=-1, min_samples_leaf=4)\n",
    "    return rf.fit(X, data.target)\n",
    "    "
   ]
  },
  {
   "cell_type": "code",
   "execution_count": 19,
   "metadata": {
    "collapsed": false
   },
   "outputs": [
    {
     "data": {
      "text/plain": [
       "0.89345164188445736"
      ]
     },
     "execution_count": 19,
     "metadata": {},
     "output_type": "execute_result"
    }
   ],
   "source": [
    "gs.score(X_test, y_test)"
   ]
  },
  {
   "cell_type": "code",
   "execution_count": 18,
   "metadata": {
    "collapsed": false,
    "scrolled": true
   },
   "outputs": [
    {
     "name": "stdout",
     "output_type": "stream",
     "text": [
      "Pipeline(steps=[('tfidf', TfidfVectorizer(analyzer='word', binary=False, decode_error='strict',\n",
      "        dtype=<class 'numpy.int64'>, encoding='utf-8', input='content',\n",
      "        lowercase=True, max_df=1.0, max_features=None, min_df=1,\n",
      "        ngram_range=(1, 2), norm='l2', preprocessor=None, smooth_idf=True,\n",
      " ...ax_iter=1000,\n",
      "     multi_class='ovr', penalty='l2', random_state=None, tol=0.0001,\n",
      "     verbose=0))])\n"
     ]
    }
   ],
   "source": [
    "print(gs.best_estimator_)\n"
   ]
  },
  {
   "cell_type": "code",
   "execution_count": 22,
   "metadata": {
    "collapsed": false
   },
   "outputs": [],
   "source": [
    "pred_y = gs.predict(X_test)"
   ]
  },
  {
   "cell_type": "code",
   "execution_count": 25,
   "metadata": {
    "collapsed": false,
    "scrolled": true
   },
   "outputs": [],
   "source": [
    "cm = confusion_matrix(y_test,pred_y)\n",
    "cm_normalized = cm.astype('float') / cm.sum(axis=1)[:, np.newaxis]"
   ]
  },
  {
   "cell_type": "code",
   "execution_count": 26,
   "metadata": {
    "collapsed": false,
    "scrolled": true
   },
   "outputs": [
    {
     "name": "stderr",
     "output_type": "stream",
     "text": [
      "/home/ubuntu/anaconda3/lib/python3.4/site-packages/matplotlib/collections.py:590: FutureWarning: elementwise comparison failed; returning scalar instead, but in the future will perform elementwise comparison\n",
      "  if self._edgecolors == str('face'):\n"
     ]
    },
    {
     "data": {
      "image/png": "[encoded data removed]",
      "text/plain": [
       "<matplotlib.figure.Figure at 0x7fa2f8d9cd30>"
      ]
     },
     "metadata": {},
     "output_type": "display_data"
    }
   ],
   "source": [
    "plot_confusion_matrix(cm_normalized)"
   ]
  },
  {
   "cell_type": "code",
   "execution_count": 28,
   "metadata": {
    "collapsed": false
   },
   "outputs": [
    {
     "data": {
      "text/plain": [
       "59319     fast drive through just before 5pm got everyth...\n",
       "632018    worse servicefood ever dont spend your money t...\n",
       "Name: text, dtype: object"
      ]
     },
     "execution_count": 28,
     "metadata": {},
     "output_type": "execute_result"
    }
   ],
   "source": [
    "X_train.head(2)"
   ]
  },
  {
   "cell_type": "code",
   "execution_count": 30,
   "metadata": {
    "collapsed": false
   },
   "outputs": [
    {
     "data": {
      "text/plain": [
       "['../vect.pkl', '../vect.pkl_01.npy', '../vect.pkl_02.npy']"
      ]
     },
     "execution_count": 30,
     "metadata": {},
     "output_type": "execute_result"
    }
   ],
   "source": [
    "joblib.dump(vect, '../vect.pkl')"
   ]
  },
  {
   "cell_type": "code",
   "execution_count": 39,
   "metadata": {
    "collapsed": false,
    "scrolled": true
   },
   "outputs": [],
   "source": [
    "text = ['Apple Pie tasty'.lower()]"
   ]
  },
  {
   "cell_type": "code",
   "execution_count": 43,
   "metadata": {
    "collapsed": false
   },
   "outputs": [
    {
     "data": {
      "text/plain": [
       "['apple pie tasty']"
      ]
     },
     "execution_count": 43,
     "metadata": {},
     "output_type": "execute_result"
    }
   ],
   "source": [
    "text"
   ]
  },
  {
   "cell_type": "code",
   "execution_count": 40,
   "metadata": {
    "collapsed": false
   },
   "outputs": [],
   "source": [
    "test_review = vect.transform(text)"
   ]
  },
  {
   "cell_type": "code",
   "execution_count": 42,
   "metadata": {
    "collapsed": false
   },
   "outputs": [
    {
     "data": {
      "text/plain": [
       "<1x540472 sparse matrix of type '<class 'numpy.float64'>'\n",
       "\twith 3 stored elements in Compressed Sparse Row format>"
      ]
     },
     "execution_count": 42,
     "metadata": {},
     "output_type": "execute_result"
    }
   ],
   "source": [
    "test_review"
   ]
  },
  {
   "cell_type": "code",
   "execution_count": null,
   "metadata": {
    "collapsed": false
   },
   "outputs": [],
   "source": [
    "%pdb on\n",
    "gs.predict(test_review)"
   ]
  },
  {
   "cell_type": "code",
   "execution_count": null,
   "metadata": {
    "collapsed": true
   },
   "outputs": [],
   "source": [
    "2"
   ]
  },
  {
   "cell_type": "code",
   "execution_count": null,
   "metadata": {
    "collapsed": true
   },
   "outputs": [],
   "source": []
  }
 ],
 "metadata": {
  "kernelspec": {
   "display_name": "Python 3",
   "language": "python",
   "name": "python3"
  },
  "language_info": {
   "codemirror_mode": {
    "name": "ipython",
    "version": 3
   },
   "file_extension": ".py",
   "mimetype": "text/x-python",
   "name": "python",
   "nbconvert_exporter": "python",
   "pygments_lexer": "ipython3",
   "version": "3.4.3"
  }
 },
 "nbformat": 4,
 "nbformat_minor": 0
}
