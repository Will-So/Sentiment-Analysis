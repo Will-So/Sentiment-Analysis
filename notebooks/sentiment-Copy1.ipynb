{
 "cells": [
  {
   "cell_type": "code",
   "execution_count": 57,
   "metadata": {
    "collapsed": false,
    "scrolled": true
   },
   "outputs": [
    {
     "name": "stdout",
     "output_type": "stream",
     "text": [
      "Installed autotime.py. To use it, type:\n",
      "  %load_ext autotime\n"
     ]
    },
    {
     "name": "stderr",
     "output_type": "stream",
     "text": [
      "/Users/Will/anaconda/envs/py34/lib/python3.4/site-packages/IPython/core/magics/extension.py:47: UserWarning: %install_ext` is deprecated, please distribute your extension(s)as a python packages.\n",
      "  \"as a python packages.\", UserWarning)\n"
     ]
    }
   ],
   "source": [
    "%install_ext https://raw.github.com/cpcloud/ipython-autotime/master/autotime.py\n"
   ]
  },
  {
   "cell_type": "code",
   "execution_count": 1,
   "metadata": {
    "collapsed": true
   },
   "outputs": [],
   "source": []
  },
  {
   "cell_type": "code",
   "execution_count": 2,
   "metadata": {
    "collapsed": false
   },
   "outputs": [
    {
     "name": "stdout",
     "output_type": "stream",
     "text": [
      "time: 448 ms\n"
     ]
    }
   ],
   "source": [
    "import pandas as pd\n",
    "DATA_DIR = '/Users/Will/Data/newest_yelp/'\n",
    "import sys\n",
    "sys.path.append('..')\n",
    "%load_ext autotime"
   ]
  },
  {
   "cell_type": "code",
   "execution_count": 3,
   "metadata": {
    "collapsed": false
   },
   "outputs": [
    {
     "name": "stdout",
     "output_type": "stream",
     "text": [
      "time: 8.31 s\n"
     ]
    }
   ],
   "source": [
    "combined_data = pd.read_hdf('../data/restaurant_reviews.hdf')"
   ]
  },
  {
   "cell_type": "code",
   "execution_count": 8,
   "metadata": {
    "collapsed": false
   },
   "outputs": [],
   "source": [
    "from scripts.sentiment import bag_of_word_feats, label_reviews"
   ]
  },
  {
   "cell_type": "code",
   "execution_count": 28,
   "metadata": {
    "collapsed": false,
    "scrolled": true
   },
   "outputs": [],
   "source": [
    "positive, negative, neutral = label_reviews(combined_data)"
   ]
  },
  {
   "cell_type": "code",
   "execution_count": 12,
   "metadata": {
    "collapsed": false,
    "scrolled": true
   },
   "outputs": [
    {
     "data": {
      "text/plain": [
       "Index(['business_id', 'date', 'review_id', 'stars_x', 'text', 'type_x',\n",
       "       'user_id', 'votes', 'categories', 'city', 'full_address', 'hours',\n",
       "       'latitude', 'longitude', 'name', 'neighborhoods', 'open',\n",
       "       'review_count', 'stars_y', 'state', 'type_y', 'is_rest'],\n",
       "      dtype='object')"
      ]
     },
     "execution_count": 12,
     "metadata": {},
     "output_type": "execute_result"
    }
   ],
   "source": [
    "combined_data.columns"
   ]
  },
  {
   "cell_type": "code",
   "execution_count": 20,
   "metadata": {
    "collapsed": false
   },
   "outputs": [],
   "source": [
    "combined_data = combined_data.rename(columns={'stars_x': 'stars', 'type_x':'type'})"
   ]
  },
  {
   "cell_type": "code",
   "execution_count": 25,
   "metadata": {
    "collapsed": true
   },
   "outputs": [],
   "source": [
    "df = combined_data[['date', 'review_id', 'text', 'user_id',\n",
    "                   'city', 'latitude', 'longitude', 'name', 'neighborhoods',\n",
    "                   'stars', 'hours']]"
   ]
  },
  {
   "cell_type": "code",
   "execution_count": 32,
   "metadata": {
    "collapsed": false
   },
   "outputs": [
    {
     "data": {
      "text/plain": [
       "'401,597,360'"
      ]
     },
     "execution_count": 32,
     "metadata": {},
     "output_type": "execute_result"
    }
   ],
   "source": [
    "from pprint import pprint\n",
    "\"{:,}\".format(len(positive))"
   ]
  },
  {
   "cell_type": "code",
   "execution_count": 34,
   "metadata": {
    "collapsed": false
   },
   "outputs": [
    {
     "data": {
      "text/plain": [
       "'401,597,360'"
      ]
     },
     "execution_count": 34,
     "metadata": {},
     "output_type": "execute_result"
    }
   ],
   "source": [
    "format(len(positive), ',d')"
   ]
  },
  {
   "cell_type": "code",
   "execution_count": 33,
   "metadata": {
    "collapsed": false
   },
   "outputs": [
    {
     "data": {
      "text/plain": [
       "'This place'"
      ]
     },
     "execution_count": 33,
     "metadata": {},
     "output_type": "execute_result"
    }
   ],
   "source": [
    "positive[:10]"
   ]
  },
  {
   "cell_type": "code",
   "execution_count": 6,
   "metadata": {
    "collapsed": false,
    "scrolled": true
   },
   "outputs": [
    {
     "data": {
      "text/plain": [
       "0         This place was DELICIOUS!!  My parents saw a r...\n",
       "1         Can't miss stop for the best Fish Sandwich in ...\n",
       "2         This place should have a lot more reviews - bu...\n",
       "3         This place was very good. I found out about Em...\n",
       "4         Old school.....traditional \"mom 'n pop\" qualit...\n",
       "5         Seen this restaurant on 25 best places in Pitt...\n",
       "6         Wonderful reuben.  Map shown on Yelp page is i...\n",
       "7                                       Good fish sandwich.\n",
       "8         After a morning of Thrift Store hunting, a fri...\n",
       "9         This is a hidden gem, no really. It took us fo...\n",
       "10        This would be my local haunt, if I were ever t...\n",
       "11        A great townie bar with tasty food and an inte...\n",
       "12        Alexion's has been around forever.  The first ...\n",
       "13        Good for cheap drinks and wings, they offer da...\n",
       "14        What a cool bar/restaurant.. I will no doubt b...\n",
       "15        Awesome drink specials during happy hour. Fant...\n",
       "16        Good beer selection. Understaffed for a light ...\n",
       "17        Grew up near here. the family would always go ...\n",
       "18        Very disappointed in the customer service. We ...\n",
       "19        Let there be no question: Alexions owns the be...\n",
       "20        The sandwiches, the wings, enough said. Alexio...\n",
       "21        We met a couple of friends there on a Friday a...\n",
       "22        I have never seen a restaurant that has a frow...\n",
       "23        So... back in the late 90s, there used to be t...\n",
       "24        Ive pretty much been eating at various Kings' ...\n",
       "25                                                  Hoofah.\n",
       "26        I heart King's. I've always been a fan and thi...\n",
       "27        I arrived around 10 am on a Saturday morning. ...\n",
       "28        thisis not the closest Kings to us, but we oft...\n",
       "29        Two meals, on the recommendation of a friend w...\n",
       "                                ...                        \n",
       "990597    This is only based on 2 things. The Fries & Wi...\n",
       "990598    Came here after seeing this new burger place o...\n",
       "990599    I had high hopes for this place. When I learne...\n",
       "990600    Went to checkers on a friends recommendation t...\n",
       "990601    The food at this place is amazing. My favorite...\n",
       "990602    Love this place! The portions are generous but...\n",
       "990603    This is easily one of my favorite places to ea...\n",
       "990604    Finally - a place in Henderson to get great ch...\n",
       "990605    Hmmm...not quite sure what to make of this pla...\n",
       "990606    Very cool new spot in the Old Town Scottsdale ...\n",
       "990607    WOW!!!  First off, the place is gorgeous.  Hat...\n",
       "990608    This place is by far the new hot spot in Scott...\n",
       "990609    My wife and I live in the area and are pleasan...\n",
       "990610    Went for dinner with friends tonight. The plac...\n",
       "990611    Great ambiance, absolutely love the decor, ver...\n",
       "990612    I visited Dakota on a Saturday night and had g...\n",
       "990613    Revamped buffet at Excalibur!  I really really...\n",
       "990614    My family and I decided to go here for our las...\n",
       "990615    Buffet was recently open after renovation so m...\n",
       "990616    Honestly i expected much much more out of a la...\n",
       "990617    Scottsdale Beer Company has only been open 2 d...\n",
       "990618    Just found my new favorite hang out. This plac...\n",
       "990619    Official opening is about a month away. Howeve...\n",
       "990620    Came in after shopping at neighbor Pier 1 Impo...\n",
       "990621    This new Brew Pub has just opened in our neigh...\n",
       "990622    A very welcome addition to Central Scottsdale,...\n",
       "990623    My first thoughts when I walked in were \"wow t...\n",
       "990624    This is your restaurant for Cuban, Puerto Rica...\n",
       "990625    Best hidden secret in Vegas..... Great selecti...\n",
       "990626    Really disappointing. Either the place was hav...\n",
       "Name: text, dtype: object"
      ]
     },
     "execution_count": 6,
     "metadata": {},
     "output_type": "execute_result"
    }
   ],
   "source": [
    "combined_data.text"
   ]
  },
  {
   "cell_type": "code",
   "execution_count": 4,
   "metadata": {
    "collapsed": false,
    "scrolled": true
   },
   "outputs": [],
   "source": [
    "combined_data.loc[combined_data.stars.isin([1,2]), 'target'] = -1"
   ]
  },
  {
   "cell_type": "code",
   "execution_count": 4,
   "metadata": {
    "collapsed": false
   },
   "outputs": [
    {
     "name": "stdout",
     "output_type": "stream",
     "text": [
      "time: 3.54 ms\n"
     ]
    }
   ],
   "source": [
    "def get_text_and_labels(data):\n",
    "    \"\"\"\n",
    "\n",
    "    Returns\n",
    "    -------\n",
    "\n",
    "    \"\"\"\n",
    "    data.loc[data.stars.isin([1,2]), 'target'] = -1\n",
    "    data.loc[data.stars.isin([4,5]), 'target'] = 1\n",
    "    data.loc[data.stars.isin([3]), 'target'] = 0\n",
    "    data = data[['text', 'target']]\n",
    "\n",
    "    return data"
   ]
  },
  {
   "cell_type": "code",
   "execution_count": 5,
   "metadata": {
    "collapsed": false
   },
   "outputs": [
    {
     "name": "stdout",
     "output_type": "stream",
     "text": [
      "time: 170 ms\n"
     ]
    }
   ],
   "source": [
    "df = get_text_and_labels(combined_data)"
   ]
  },
  {
   "cell_type": "code",
   "execution_count": 14,
   "metadata": {
    "collapsed": false,
    "scrolled": true
   },
   "outputs": [
    {
     "data": {
      "text/plain": [
       "0         This place was DELICIOUS!!  My parents saw a r...\n",
       "1         Can't miss stop for the best Fish Sandwich in ...\n",
       "2         This place should have a lot more reviews - bu...\n",
       "3         This place was very good. I found out about Em...\n",
       "4         Old school.....traditional \"mom 'n pop\" qualit...\n",
       "5         Seen this restaurant on 25 best places in Pitt...\n",
       "6         Wonderful reuben.  Map shown on Yelp page is i...\n",
       "7                                       Good fish sandwich.\n",
       "8         After a morning of Thrift Store hunting, a fri...\n",
       "9         This is a hidden gem, no really. It took us fo...\n",
       "10        This would be my local haunt, if I were ever t...\n",
       "11        A great townie bar with tasty food and an inte...\n",
       "12        Alexion's has been around forever.  The first ...\n",
       "13        Good for cheap drinks and wings, they offer da...\n",
       "14        What a cool bar/restaurant.. I will no doubt b...\n",
       "15        Awesome drink specials during happy hour. Fant...\n",
       "16        Good beer selection. Understaffed for a light ...\n",
       "17        Grew up near here. the family would always go ...\n",
       "18        Very disappointed in the customer service. We ...\n",
       "19        Let there be no question: Alexions owns the be...\n",
       "20        The sandwiches, the wings, enough said. Alexio...\n",
       "21        We met a couple of friends there on a Friday a...\n",
       "22        I have never seen a restaurant that has a frow...\n",
       "23        So... back in the late 90s, there used to be t...\n",
       "24        Ive pretty much been eating at various Kings' ...\n",
       "25                                                  Hoofah.\n",
       "26        I heart King's. I've always been a fan and thi...\n",
       "27        I arrived around 10 am on a Saturday morning. ...\n",
       "28        thisis not the closest Kings to us, but we oft...\n",
       "29        Two meals, on the recommendation of a friend w...\n",
       "                                ...                        \n",
       "990597    This is only based on 2 things. The Fries & Wi...\n",
       "990598    Came here after seeing this new burger place o...\n",
       "990599    I had high hopes for this place. When I learne...\n",
       "990600    Went to checkers on a friends recommendation t...\n",
       "990601    The food at this place is amazing. My favorite...\n",
       "990602    Love this place! The portions are generous but...\n",
       "990603    This is easily one of my favorite places to ea...\n",
       "990604    Finally - a place in Henderson to get great ch...\n",
       "990605    Hmmm...not quite sure what to make of this pla...\n",
       "990606    Very cool new spot in the Old Town Scottsdale ...\n",
       "990607    WOW!!!  First off, the place is gorgeous.  Hat...\n",
       "990608    This place is by far the new hot spot in Scott...\n",
       "990609    My wife and I live in the area and are pleasan...\n",
       "990610    Went for dinner with friends tonight. The plac...\n",
       "990611    Great ambiance, absolutely love the decor, ver...\n",
       "990612    I visited Dakota on a Saturday night and had g...\n",
       "990613    Revamped buffet at Excalibur!  I really really...\n",
       "990614    My family and I decided to go here for our las...\n",
       "990615    Buffet was recently open after renovation so m...\n",
       "990616    Honestly i expected much much more out of a la...\n",
       "990617    Scottsdale Beer Company has only been open 2 d...\n",
       "990618    Just found my new favorite hang out. This plac...\n",
       "990619    Official opening is about a month away. Howeve...\n",
       "990620    Came in after shopping at neighbor Pier 1 Impo...\n",
       "990621    This new Brew Pub has just opened in our neigh...\n",
       "990622    A very welcome addition to Central Scottsdale,...\n",
       "990623    My first thoughts when I walked in were \"wow t...\n",
       "990624    This is your restaurant for Cuban, Puerto Rica...\n",
       "990625    Best hidden secret in Vegas..... Great selecti...\n",
       "990626    Really disappointing. Either the place was hav...\n",
       "Name: text, dtype: object"
      ]
     },
     "execution_count": 14,
     "metadata": {},
     "output_type": "execute_result"
    }
   ],
   "source": [
    "df.text = df.text.apply(lambda x: )"
   ]
  },
  {
   "cell_type": "code",
   "execution_count": 7,
   "metadata": {
    "collapsed": false
   },
   "outputs": [
    {
     "name": "stdout",
     "output_type": "stream",
     "text": [
      "time: 15.7 s\n"
     ]
    }
   ],
   "source": [
    "import os\n",
    "from spacy.en import English, LOCAL_DATA_DIR\n",
    "data_dir = os.environ.get('SPACY_DATA', LOCAL_DATA_DIR)\n",
    "nlp = English(data_dir=data_dir)\n",
    "doc = nlp('Hello, world. Here are two sentences.')"
   ]
  },
  {
   "cell_type": "code",
   "execution_count": 30,
   "metadata": {
    "collapsed": false
   },
   "outputs": [],
   "source": [
    "sentence = doc.sents"
   ]
  },
  {
   "cell_type": "code",
   "execution_count": 32,
   "metadata": {
    "collapsed": false
   },
   "outputs": [
    {
     "data": {
      "text/plain": [
       "['Hello, world.', 'Here are two sentences.']"
      ]
     },
     "execution_count": 32,
     "metadata": {},
     "output_type": "execute_result"
    }
   ],
   "source": [
    "[i.text for i in doc.sents]"
   ]
  },
  {
   "cell_type": "code",
   "execution_count": 37,
   "metadata": {
    "collapsed": false
   },
   "outputs": [],
   "source": [
    "sents = [i.text for i in doc.sents]"
   ]
  },
  {
   "cell_type": "code",
   "execution_count": 39,
   "metadata": {
    "collapsed": false
   },
   "outputs": [
    {
     "data": {
      "text/plain": [
       "str"
      ]
     },
     "execution_count": 39,
     "metadata": {},
     "output_type": "execute_result"
    }
   ],
   "source": [
    "type(sents[0])"
   ]
  },
  {
   "cell_type": "code",
   "execution_count": 40,
   "metadata": {
    "collapsed": false
   },
   "outputs": [
    {
     "ename": "KeyboardInterrupt",
     "evalue": "",
     "output_type": "error",
     "traceback": [
      "\u001b[0;31m---------------------------------------------------------------------------\u001b[0m",
      "\u001b[0;31mKeyboardInterrupt\u001b[0m                         Traceback (most recent call last)",
      "\u001b[0;32m<ipython-input-40-bb3f5c5b24a1>\u001b[0m in \u001b[0;36m<module>\u001b[0;34m()\u001b[0m\n\u001b[0;32m----> 1\u001b[0;31m \u001b[0mdf\u001b[0m\u001b[0;34m.\u001b[0m\u001b[0mtext\u001b[0m \u001b[0;34m=\u001b[0m \u001b[0mdf\u001b[0m\u001b[0;34m.\u001b[0m\u001b[0mtext\u001b[0m\u001b[0;34m.\u001b[0m\u001b[0mapply\u001b[0m\u001b[0;34m(\u001b[0m\u001b[0mnlp\u001b[0m\u001b[0;34m)\u001b[0m\u001b[0;34m\u001b[0m\u001b[0m\n\u001b[0m",
      "\u001b[0;32m/Users/Will/anaconda/envs/py34/lib/python3.4/site-packages/pandas/core/series.py\u001b[0m in \u001b[0;36mapply\u001b[0;34m(self, func, convert_dtype, args, **kwds)\u001b[0m\n\u001b[1;32m   2158\u001b[0m             \u001b[0mvalues\u001b[0m \u001b[0;34m=\u001b[0m \u001b[0mlib\u001b[0m\u001b[0;34m.\u001b[0m\u001b[0mmap_infer\u001b[0m\u001b[0;34m(\u001b[0m\u001b[0mvalues\u001b[0m\u001b[0;34m,\u001b[0m \u001b[0mlib\u001b[0m\u001b[0;34m.\u001b[0m\u001b[0mTimestamp\u001b[0m\u001b[0;34m)\u001b[0m\u001b[0;34m\u001b[0m\u001b[0m\n\u001b[1;32m   2159\u001b[0m \u001b[0;34m\u001b[0m\u001b[0m\n\u001b[0;32m-> 2160\u001b[0;31m         \u001b[0mmapped\u001b[0m \u001b[0;34m=\u001b[0m \u001b[0mlib\u001b[0m\u001b[0;34m.\u001b[0m\u001b[0mmap_infer\u001b[0m\u001b[0;34m(\u001b[0m\u001b[0mvalues\u001b[0m\u001b[0;34m,\u001b[0m \u001b[0mf\u001b[0m\u001b[0;34m,\u001b[0m \u001b[0mconvert\u001b[0m\u001b[0;34m=\u001b[0m\u001b[0mconvert_dtype\u001b[0m\u001b[0;34m)\u001b[0m\u001b[0;34m\u001b[0m\u001b[0m\n\u001b[0m\u001b[1;32m   2161\u001b[0m         \u001b[0;32mif\u001b[0m \u001b[0mlen\u001b[0m\u001b[0;34m(\u001b[0m\u001b[0mmapped\u001b[0m\u001b[0;34m)\u001b[0m \u001b[0;32mand\u001b[0m \u001b[0misinstance\u001b[0m\u001b[0;34m(\u001b[0m\u001b[0mmapped\u001b[0m\u001b[0;34m[\u001b[0m\u001b[0;36m0\u001b[0m\u001b[0;34m]\u001b[0m\u001b[0;34m,\u001b[0m \u001b[0mSeries\u001b[0m\u001b[0;34m)\u001b[0m\u001b[0;34m:\u001b[0m\u001b[0;34m\u001b[0m\u001b[0m\n\u001b[1;32m   2162\u001b[0m             \u001b[0;32mfrom\u001b[0m \u001b[0mpandas\u001b[0m\u001b[0;34m.\u001b[0m\u001b[0mcore\u001b[0m\u001b[0;34m.\u001b[0m\u001b[0mframe\u001b[0m \u001b[0;32mimport\u001b[0m \u001b[0mDataFrame\u001b[0m\u001b[0;34m\u001b[0m\u001b[0m\n",
      "\u001b[0;32mpandas/src/inference.pyx\u001b[0m in \u001b[0;36mpandas.lib.map_infer (pandas/lib.c:62187)\u001b[0;34m()\u001b[0m\n",
      "\u001b[0;32m/Users/Will/anaconda/envs/py34/lib/python3.4/site-packages/spacy/language.py\u001b[0m in \u001b[0;36m__call__\u001b[0;34m(self, text, tag, parse, entity)\u001b[0m\n\u001b[1;32m    233\u001b[0m             \u001b[0mself\u001b[0m\u001b[0;34m.\u001b[0m\u001b[0mparser\u001b[0m\u001b[0;34m(\u001b[0m\u001b[0mtokens\u001b[0m\u001b[0;34m)\u001b[0m\u001b[0;34m\u001b[0m\u001b[0m\n\u001b[1;32m    234\u001b[0m         \u001b[0;32mif\u001b[0m \u001b[0mself\u001b[0m\u001b[0;34m.\u001b[0m\u001b[0mentity\u001b[0m \u001b[0;32mand\u001b[0m \u001b[0mentity\u001b[0m\u001b[0;34m:\u001b[0m\u001b[0;34m\u001b[0m\u001b[0m\n\u001b[0;32m--> 235\u001b[0;31m             \u001b[0mself\u001b[0m\u001b[0;34m.\u001b[0m\u001b[0mentity\u001b[0m\u001b[0;34m(\u001b[0m\u001b[0mtokens\u001b[0m\u001b[0;34m)\u001b[0m\u001b[0;34m\u001b[0m\u001b[0m\n\u001b[0m\u001b[1;32m    236\u001b[0m         \u001b[0;32mreturn\u001b[0m \u001b[0mtokens\u001b[0m\u001b[0;34m\u001b[0m\u001b[0m\n\u001b[1;32m    237\u001b[0m \u001b[0;34m\u001b[0m\u001b[0m\n",
      "\u001b[0;31mKeyboardInterrupt\u001b[0m: "
     ]
    }
   ],
   "source": [
    "df.text = df.text.apply(nlp)"
   ]
  },
  {
   "cell_type": "code",
   "execution_count": 52,
   "metadata": {
    "collapsed": false
   },
   "outputs": [
    {
     "data": {
      "text/plain": [
       "990627"
      ]
     },
     "execution_count": 52,
     "metadata": {},
     "output_type": "execute_result"
    }
   ],
   "source": [
    "len(df.text)"
   ]
  },
  {
   "cell_type": "code",
   "execution_count": 56,
   "metadata": {
    "collapsed": false,
    "scrolled": true
   },
   "outputs": [
    {
     "data": {
      "text/plain": [
       "9906"
      ]
     },
     "execution_count": 56,
     "metadata": {},
     "output_type": "execute_result"
    }
   ],
   "source": [
    "len(sample)"
   ]
  },
  {
   "cell_type": "code",
   "execution_count": 64,
   "metadata": {
    "collapsed": false
   },
   "outputs": [
    {
     "data": {
      "text/plain": [
       "9906"
      ]
     },
     "execution_count": 64,
     "metadata": {},
     "output_type": "execute_result"
    },
    {
     "name": "stdout",
     "output_type": "stream",
     "text": [
      "time: 2.7 ms\n"
     ]
    }
   ],
   "source": [
    "len(sample)"
   ]
  },
  {
   "cell_type": "code",
   "execution_count": 8,
   "metadata": {
    "collapsed": false
   },
   "outputs": [
    {
     "name": "stdout",
     "output_type": "stream",
     "text": [
      "time: 203 ms\n"
     ]
    }
   ],
   "source": [
    "small_sample = df.sample(n=1000)"
   ]
  },
  {
   "cell_type": "code",
   "execution_count": 16,
   "metadata": {
    "collapsed": false,
    "scrolled": true
   },
   "outputs": [
    {
     "name": "stdout",
     "output_type": "stream",
     "text": [
      "time: 700 µs\n"
     ]
    }
   ],
   "source": [
    "from nltk import word_tokenize"
   ]
  },
  {
   "cell_type": "code",
   "execution_count": 24,
   "metadata": {
    "collapsed": false
   },
   "outputs": [
    {
     "ename": "NameError",
     "evalue": "name 'x' is not defined",
     "output_type": "error",
     "traceback": [
      "\u001b[0;31m---------------------------------------------------------------------------\u001b[0m",
      "\u001b[0;31mNameError\u001b[0m                                 Traceback (most recent call last)",
      "\u001b[0;32m<ipython-input-24-45dbf26a0d30>\u001b[0m in \u001b[0;36m<module>\u001b[0;34m()\u001b[0m\n\u001b[0;32m----> 1\u001b[0;31m \u001b[0msmall_sample\u001b[0m\u001b[0;34m.\u001b[0m\u001b[0mtext\u001b[0m\u001b[0;34m.\u001b[0m\u001b[0mapply\u001b[0m\u001b[0;34m(\u001b[0m\u001b[0mword_tokenize\u001b[0m\u001b[0;34m)\u001b[0m\u001b[0;34m.\u001b[0m\u001b[0mmap\u001b[0m\u001b[0;34m(\u001b[0m\u001b[0;32mlambda\u001b[0m \u001b[0mx\u001b[0m\u001b[0;34m:\u001b[0m \u001b[0mi\u001b[0m\u001b[0;34m.\u001b[0m\u001b[0mlower\u001b[0m\u001b[0;34m(\u001b[0m\u001b[0;34m)\u001b[0m \u001b[0;32mfor\u001b[0m \u001b[0mi\u001b[0m \u001b[0;32min\u001b[0m \u001b[0mx\u001b[0m\u001b[0;34m)\u001b[0m\u001b[0;34m\u001b[0m\u001b[0m\n\u001b[0m",
      "\u001b[0;31mNameError\u001b[0m: name 'x' is not defined"
     ]
    },
    {
     "name": "stdout",
     "output_type": "stream",
     "text": [
      "time: 1.32 s\n"
     ]
    }
   ],
   "source": [
    "small_sample.text.apply(word_tokenize).map(lambda x: i.lower() for i in x)"
   ]
  },
  {
   "cell_type": "code",
   "execution_count": 26,
   "metadata": {
    "collapsed": false
   },
   "outputs": [
    {
     "data": {
      "text/plain": [
       "211669    [ok, ,, i, needed, to, write, an, update, ., w...\n",
       "11522     [i, have, seen, better, and, i, ca, n't, say, ...\n",
       "336951    [let, me, start, by, saying, ,, i, 'm, an, ol,...\n",
       "765714    [since, i, moved, to, henderson, i, 've, been,...\n",
       "383628    [free, 1, lb, homemade, pasta, for, yelp, chec...\n",
       "297171    [they, serve, sweet, potatoe, fries, here, !, ...\n",
       "968340    [i, wish, i, could, rate, this, place, higher,...\n",
       "244033    [a, little, touch, of, bavaria, in, las, vegas...\n",
       "198217    [experience, based, on, drive, thru, alone, .....\n",
       "447873    [i, enjoy, good, fish, and, chips, once, in, a...\n",
       "793178    [had, to, check, out, the, place, because, of,...\n",
       "212078    [oh, yea, ., talk, about, a, coffee, house, wi...\n",
       "447848    [i, decided, to, give, this, place, a, try, .,...\n",
       "256569    [i, 'm, sorry, i, waited, this, long, to, revi...\n",
       "583721    [my, wife, and, i, had, the, pleasure, of, din...\n",
       "369052               [food, is, fine, ,, service, sucks, .]\n",
       "716834    [ahh, ,, pinky, 's, ., upon, moving, to, the, ...\n",
       "154036    [i, came, here, twice, this, past, week, while...\n",
       "927131    [saw, the, new, restaurant, when, we, were, dr...\n",
       "715086    [omg, -, now, this, is, what, comfort, food, s...\n",
       "854413    [before, this, was, los, dos, molinos, it, sto...\n",
       "588450    [this, little, gem, is, quite, tasty, !, it, i...\n",
       "615985    [pretty, okay, chinese, food, ,, not, as, amaz...\n",
       "83045     [this, is, the, sushi, place, my, friend, take...\n",
       "144939    [got, my, food, real, fast, (, express, ,, i, ...\n",
       "433726    [we, stopped, by, to, grab, a, beer, and, get,...\n",
       "87546     [we, were, on, our, through, vegas, and, neede...\n",
       "455289    [we, 've, come, here, for, over, two, years, n...\n",
       "919838    [the, food, is, good, ,, healthy, and, fresh, ...\n",
       "202830    [great, food, ,, great, service, and, they, do...\n",
       "                                ...                        \n",
       "625654    [i, went, couple, of, times, for, buffet, ...,...\n",
       "318457    [i, got, a, great, deal, on, travelzoo, and, w...\n",
       "564525    [tortilla, soup, ., best, thing, ever, ., the,...\n",
       "810694    [always, on, time, always, good, !, !, !, i, o...\n",
       "187753    [having, been, to, vegas, more, than, several,...\n",
       "505573    [this, place, is, much, better, than, it, look...\n",
       "584648    [we, went, for, lunch, during, a, recent, vega...\n",
       "418968    [not, the, best, ,, but, not, the, worst, ., i...\n",
       "513908    [this, is, a, very, small, restaurant, (, abou...\n",
       "638308    [wanted, to, give, it, 4, 1/2, stars, ., took,...\n",
       "473094    [i, always, drove, by, this, place, but, they,...\n",
       "539759    [charming, cafe, !, !, !, at, first, i, felt, ...\n",
       "165838    [i, swear, i, think, they, tried, to, poison, ...\n",
       "320665    [i, will, give, this, restaurant, five, stars,...\n",
       "858723    [hubby, and, i, went, for, breakfast, ,, it, w...\n",
       "272833    [i, went, to, this, place, while, hiding, from...\n",
       "256340    [eli, 's, has, nice, sitting, areas, for, soci...\n",
       "601298    [house, of, pizza, is, just, like, your, favor...\n",
       "424662    [i, do, n't, know, how, a, pizza, place, that,...\n",
       "894023    [they, have, the, freshest, salads, to, be, co...\n",
       "1147      [i, was, really, impressed, by, this, place, ....\n",
       "618437    [i, heard, of, this, place, before, and, i, wa...\n",
       "961906    [i, had, heard, many, good, things, about, thi...\n",
       "228228    [7, girls, ,, after, a, long, 4, hour, drive, ...\n",
       "632479    [i, work, right, across, the, street, from, he...\n",
       "631822    [here, we, go, again, ., i, ordered, the, ital...\n",
       "764626    [okay, ., i, 'm, a, huge, fan, of, greek, and,...\n",
       "715800    [grungy, looking, place, with, a, grungy, clie...\n",
       "338092    [moving, to, las, vegas, from, los, angeles, ,...\n",
       "375423    [there, was, a, large, sign, on, the, front, d...\n",
       "Name: text, dtype: object"
      ]
     },
     "execution_count": 26,
     "metadata": {},
     "output_type": "execute_result"
    },
    {
     "name": "stdout",
     "output_type": "stream",
     "text": [
      "time: 1.37 s\n"
     ]
    }
   ],
   "source": [
    "small_sample.text.str.lower().apply(word_tokenize)"
   ]
  },
  {
   "cell_type": "code",
   "execution_count": 85,
   "metadata": {
    "collapsed": false
   },
   "outputs": [
    {
     "ename": "AttributeError",
     "evalue": "'spacy.tokens.doc.Doc' object has no attribute 'orth_'",
     "output_type": "error",
     "traceback": [
      "\u001b[0;31m---------------------------------------------------------------------------\u001b[0m",
      "\u001b[0;31mAttributeError\u001b[0m                            Traceback (most recent call last)",
      "\u001b[0;32m<ipython-input-85-bb9ce102cd89>\u001b[0m in \u001b[0;36m<module>\u001b[0;34m()\u001b[0m\n\u001b[0;32m----> 1\u001b[0;31m \u001b[0mparsed\u001b[0m\u001b[0;34m.\u001b[0m\u001b[0mvalues\u001b[0m\u001b[0;34m[\u001b[0m\u001b[0;36m0\u001b[0m\u001b[0;34m]\u001b[0m\u001b[0;34m.\u001b[0m\u001b[0morth_\u001b[0m\u001b[0;34m\u001b[0m\u001b[0m\n\u001b[0m",
      "\u001b[0;31mAttributeError\u001b[0m: 'spacy.tokens.doc.Doc' object has no attribute 'orth_'"
     ]
    },
    {
     "name": "stdout",
     "output_type": "stream",
     "text": [
      "time: 5.5 ms\n"
     ]
    }
   ],
   "source": [
    "parsed.values[0].orth_"
   ]
  },
  {
   "cell_type": "code",
   "execution_count": null,
   "metadata": {
    "collapsed": true
   },
   "outputs": [],
   "source": [
    "full = df.text.apply(nlp, tag=False)"
   ]
  },
  {
   "cell_type": "markdown",
   "metadata": {},
   "source": [
    "https://github.com/omarshammas/sentiment_analysis/blob/master/train.py\n",
    "http://omarshammas.com/posts/2013-02-24-Sentiment-Analysis.html"
   ]
  }
 ],
 "metadata": {
  "kernelspec": {
   "display_name": "Python 3",
   "language": "python",
   "name": "python3"
  },
  "language_info": {
   "codemirror_mode": {
    "name": "ipython",
    "version": 3
   },
   "file_extension": ".py",
   "mimetype": "text/x-python",
   "name": "python",
   "nbconvert_exporter": "python",
   "pygments_lexer": "ipython3",
   "version": "3.4.3"
  }
 },
 "nbformat": 4,
 "nbformat_minor": 0
}
