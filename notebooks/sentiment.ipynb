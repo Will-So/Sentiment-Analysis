{
 "cells": [
  {
   "cell_type": "code",
   "execution_count": 57,
   "metadata": {},
   "outputs": [
    {
     "name": "stdout",
     "output_type": "stream",
     "text": [
      "Installed autotime.py. To use it, type:\n",
      "  %load_ext autotime\n"
     ]
    },
    {
     "name": "stderr",
     "output_type": "stream",
     "text": [
      "/Users/Will/anaconda/envs/py34/lib/python3.4/site-packages/IPython/core/magics/extension.py:47: UserWarning: %install_ext` is deprecated, please distribute your extension(s)as a python packages.\n",
      "  \"as a python packages.\", UserWarning)\n"
     ]
    }
   ],
   "source": [
    "%install_ext https://raw.github.com/cpcloud/ipython-autotime/master/autotime.py"
   ]
  },
  {
   "cell_type": "code",
   "execution_count": 58,
   "metadata": {},
   "outputs": [],
   "source": [
    "%load_ext autotime"
   ]
  },
  {
   "cell_type": "code",
   "execution_count": 1,
   "metadata": {},
   "outputs": [],
   "source": [
    "import pandas as pd\n",
    "DATA_DIR = '/Users/Will/Data/newest_yelp/'\n",
    "import sys\n",
    "sys.path.append('..')"
   ]
  },
  {
   "cell_type": "code",
   "execution_count": 7,
   "metadata": {},
   "outputs": [],
   "source": [
    "combined_data = pd.read_hdf('../data/restaurant_reviews.hdf')"
   ]
  },
  {
   "cell_type": "code",
   "execution_count": 8,
   "metadata": {},
   "outputs": [],
   "source": [
    "from scripts.sentiment import bag_of_word_feats, label_reviews"
   ]
  },
  {
   "cell_type": "code",
   "execution_count": 20,
   "metadata": {},
   "outputs": [],
   "source": [
    "combined_data = combined_data.rename(columns={'stars_x': 'stars', 'type_x':'type'})"
   ]
  },
  {
   "cell_type": "code",
   "execution_count": 25,
   "metadata": {},
   "outputs": [],
   "source": [
    "df = combined_data[['date', 'review_id', 'text', 'user_id',\n",
    "                   'city', 'latitude', 'longitude', 'name', 'neighborhoods',\n",
    "                   'stars', 'hours']]"
   ]
  },
  {
   "cell_type": "code",
   "execution_count": 32,
   "metadata": {},
   "outputs": [
    {
     "data": {
      "text/plain": [
       "'401,597,360'"
      ]
     },
     "execution_count": 32,
     "output_type": "execute_result",
     "metadata": {}
    }
   ],
   "source": [
    "from pprint import pprint\n",
    "\"{:,}\".format(len(positive))"
   ]
  },
  {
   "cell_type": "code",
   "execution_count": 34,
   "metadata": {},
   "outputs": [
    {
     "data": {
      "text/plain": [
       "'401,597,360'"
      ]
     },
     "execution_count": 34,
     "output_type": "execute_result",
     "metadata": {}
    }
   ],
   "source": [
    "format(len(positive), ',d')"
   ]
  },
  {
   "cell_type": "code",
   "execution_count": 33,
   "metadata": {},
   "outputs": [
    {
     "data": {
      "text/plain": [
       "'This place'"
      ]
     },
     "execution_count": 33,
     "output_type": "execute_result",
     "metadata": {}
    }
   ],
   "source": [
    "positive[:10]"
   ]
  },
  {
   "cell_type": "code",
   "execution_count": 6,
   "metadata": {},
   "outputs": [
    {
     "data": {
      "text/plain": [
       "0         This place was DELICIOUS!!  My parents saw a r...\n",
       "1         Can't miss stop for the best Fish Sandwich in ...\n",
       "2         This place should have a lot more reviews - bu...\n",
       "3         This place was very good. I found out about Em...\n",
       "4         Old school.....traditional \"mom 'n pop\" qualit...\n",
       "5         Seen this restaurant on 25 best places in Pitt...\n",
       "6         Wonderful reuben.  Map shown on Yelp page is i...\n",
       "7                                       Good fish sandwich.\n",
       "8         After a morning of Thrift Store hunting, a fri...\n",
       "9         This is a hidden gem, no really. It took us fo...\n",
       "10        This would be my local haunt, if I were ever t...\n",
       "11        A great townie bar with tasty food and an inte...\n",
       "12        Alexion's has been around forever.  The first ...\n",
       "13        Good for cheap drinks and wings, they offer da...\n",
       "14        What a cool bar/restaurant.. I will no doubt b...\n",
       "15        Awesome drink specials during happy hour. Fant...\n",
       "16        Good beer selection. Understaffed for a light ...\n",
       "17        Grew up near here. the family would always go ...\n",
       "18        Very disappointed in the customer service. We ...\n",
       "19        Let there be no question: Alexions owns the be...\n",
       "20        The sandwiches, the wings, enough said. Alexio...\n",
       "21        We met a couple of friends there on a Friday a...\n",
       "22        I have never seen a restaurant that has a frow...\n",
       "23        So... back in the late 90s, there used to be t...\n",
       "24        Ive pretty much been eating at various Kings' ...\n",
       "25                                                  Hoofah.\n",
       "26        I heart King's. I've always been a fan and thi...\n",
       "27        I arrived around 10 am on a Saturday morning. ...\n",
       "28        thisis not the closest Kings to us, but we oft...\n",
       "29        Two meals, on the recommendation of a friend w...\n",
       "                                ...                        \n",
       "990597    This is only based on 2 things. The Fries & Wi...\n",
       "990598    Came here after seeing this new burger place o...\n",
       "990599    I had high hopes for this place. When I learne...\n",
       "990600    Went to checkers on a friends recommendation t...\n",
       "990601    The food at this place is amazing. My favorite...\n",
       "990602    Love this place! The portions are generous but...\n",
       "990603    This is easily one of my favorite places to ea...\n",
       "990604    Finally - a place in Henderson to get great ch...\n",
       "990605    Hmmm...not quite sure what to make of this pla...\n",
       "990606    Very cool new spot in the Old Town Scottsdale ...\n",
       "990607    WOW!!!  First off, the place is gorgeous.  Hat...\n",
       "990608    This place is by far the new hot spot in Scott...\n",
       "990609    My wife and I live in the area and are pleasan...\n",
       "990610    Went for dinner with friends tonight. The plac...\n",
       "990611    Great ambiance, absolutely love the decor, ver...\n",
       "990612    I visited Dakota on a Saturday night and had g...\n",
       "990613    Revamped buffet at Excalibur!  I really really...\n",
       "990614    My family and I decided to go here for our las...\n",
       "990615    Buffet was recently open after renovation so m...\n",
       "990616    Honestly i expected much much more out of a la...\n",
       "990617    Scottsdale Beer Company has only been open 2 d...\n",
       "990618    Just found my new favorite hang out. This plac...\n",
       "990619    Official opening is about a month away. Howeve...\n",
       "990620    Came in after shopping at neighbor Pier 1 Impo...\n",
       "990621    This new Brew Pub has just opened in our neigh...\n",
       "990622    A very welcome addition to Central Scottsdale,...\n",
       "990623    My first thoughts when I walked in were \"wow t...\n",
       "990624    This is your restaurant for Cuban, Puerto Rica...\n",
       "990625    Best hidden secret in Vegas..... Great selecti...\n",
       "990626    Really disappointing. Either the place was hav...\n",
       "Name: text, dtype: object"
      ]
     },
     "execution_count": 6,
     "output_type": "execute_result",
     "metadata": {}
    }
   ],
   "source": [
    "combined_data.text"
   ]
  },
  {
   "cell_type": "code",
   "execution_count": 4,
   "metadata": {},
   "outputs": [],
   "source": [
    "combined_data.loc[combined_data.stars.isin([1,2]), 'target'] = -1"
   ]
  },
  {
   "cell_type": "code",
   "execution_count": 10,
   "metadata": {},
   "outputs": [],
   "source": [
    "def get_text_and_labels(data):\n",
    "    \"\"\"\n",
    "\n",
    "    Returns\n",
    "    -------\n",
    "\n",
    "    \"\"\"\n",
    "    data.loc[data.stars.isin([1,2]), 'target'] = -1\n",
    "    data.loc[data.stars.isin([4,5]), 'target'] = 1\n",
    "    data.loc[data.stars.isin([3]), 'target'] = 0\n",
    "    data = data[['text', 'target']]\n",
    "\n",
    "    return data"
   ]
  },
  {
   "cell_type": "code",
   "execution_count": 67,
   "metadata": {},
   "outputs": [
    {
     "name": "stdout",
     "output_type": "stream",
     "text": [
      "time: 1.12 s\n"
     ]
    }
   ],
   "source": [
    "df = get_text_and_labels(combined_data)"
   ]
  },
  {
   "cell_type": "code",
   "execution_count": 14,
   "metadata": {},
   "outputs": [
    {
     "data": {
      "text/plain": [
       "0         This place was DELICIOUS!!  My parents saw a r...\n",
       "1         Can't miss stop for the best Fish Sandwich in ...\n",
       "2         This place should have a lot more reviews - bu...\n",
       "3         This place was very good. I found out about Em...\n",
       "4         Old school.....traditional \"mom 'n pop\" qualit...\n",
       "5         Seen this restaurant on 25 best places in Pitt...\n",
       "6         Wonderful reuben.  Map shown on Yelp page is i...\n",
       "7                                       Good fish sandwich.\n",
       "8         After a morning of Thrift Store hunting, a fri...\n",
       "9         This is a hidden gem, no really. It took us fo...\n",
       "10        This would be my local haunt, if I were ever t...\n",
       "11        A great townie bar with tasty food and an inte...\n",
       "12        Alexion's has been around forever.  The first ...\n",
       "13        Good for cheap drinks and wings, they offer da...\n",
       "14        What a cool bar/restaurant.. I will no doubt b...\n",
       "15        Awesome drink specials during happy hour. Fant...\n",
       "16        Good beer selection. Understaffed for a light ...\n",
       "17        Grew up near here. the family would always go ...\n",
       "18        Very disappointed in the customer service. We ...\n",
       "19        Let there be no question: Alexions owns the be...\n",
       "20        The sandwiches, the wings, enough said. Alexio...\n",
       "21        We met a couple of friends there on a Friday a...\n",
       "22        I have never seen a restaurant that has a frow...\n",
       "23        So... back in the late 90s, there used to be t...\n",
       "24        Ive pretty much been eating at various Kings' ...\n",
       "25                                                  Hoofah.\n",
       "26        I heart King's. I've always been a fan and thi...\n",
       "27        I arrived around 10 am on a Saturday morning. ...\n",
       "28        thisis not the closest Kings to us, but we oft...\n",
       "29        Two meals, on the recommendation of a friend w...\n",
       "                                ...                        \n",
       "990597    This is only based on 2 things. The Fries & Wi...\n",
       "990598    Came here after seeing this new burger place o...\n",
       "990599    I had high hopes for this place. When I learne...\n",
       "990600    Went to checkers on a friends recommendation t...\n",
       "990601    The food at this place is amazing. My favorite...\n",
       "990602    Love this place! The portions are generous but...\n",
       "990603    This is easily one of my favorite places to ea...\n",
       "990604    Finally - a place in Henderson to get great ch...\n",
       "990605    Hmmm...not quite sure what to make of this pla...\n",
       "990606    Very cool new spot in the Old Town Scottsdale ...\n",
       "990607    WOW!!!  First off, the place is gorgeous.  Hat...\n",
       "990608    This place is by far the new hot spot in Scott...\n",
       "990609    My wife and I live in the area and are pleasan...\n",
       "990610    Went for dinner with friends tonight. The plac...\n",
       "990611    Great ambiance, absolutely love the decor, ver...\n",
       "990612    I visited Dakota on a Saturday night and had g...\n",
       "990613    Revamped buffet at Excalibur!  I really really...\n",
       "990614    My family and I decided to go here for our las...\n",
       "990615    Buffet was recently open after renovation so m...\n",
       "990616    Honestly i expected much much more out of a la...\n",
       "990617    Scottsdale Beer Company has only been open 2 d...\n",
       "990618    Just found my new favorite hang out. This plac...\n",
       "990619    Official opening is about a month away. Howeve...\n",
       "990620    Came in after shopping at neighbor Pier 1 Impo...\n",
       "990621    This new Brew Pub has just opened in our neigh...\n",
       "990622    A very welcome addition to Central Scottsdale,...\n",
       "990623    My first thoughts when I walked in were \"wow t...\n",
       "990624    This is your restaurant for Cuban, Puerto Rica...\n",
       "990625    Best hidden secret in Vegas..... Great selecti...\n",
       "990626    Really disappointing. Either the place was hav...\n",
       "Name: text, dtype: object"
      ]
     },
     "execution_count": 14,
     "output_type": "execute_result",
     "metadata": {}
    }
   ],
   "source": [
    "df.text = df.text.apply(lambda x: )"
   ]
  },
  {
   "cell_type": "code",
   "execution_count": 18,
   "metadata": {},
   "outputs": [],
   "source": [
    "import os\n",
    "from spacy.en import English, LOCAL_DATA_DIR\n",
    "data_dir = os.environ.get('SPACY_DATA', LOCAL_DATA_DIR)\n",
    "nlp = English(data_dir=data_dir)\n",
    "doc = nlp('Hello, world. Here are two sentences.')"
   ]
  },
  {
   "cell_type": "code",
   "execution_count": 30,
   "metadata": {},
   "outputs": [],
   "source": [
    "sentence = doc.sents"
   ]
  },
  {
   "cell_type": "code",
   "execution_count": 32,
   "metadata": {},
   "outputs": [
    {
     "data": {
      "text/plain": [
       "['Hello, world.', 'Here are two sentences.']"
      ]
     },
     "execution_count": 32,
     "output_type": "execute_result",
     "metadata": {}
    }
   ],
   "source": [
    "[i.text for i in doc.sents]"
   ]
  },
  {
   "cell_type": "code",
   "execution_count": 37,
   "metadata": {},
   "outputs": [],
   "source": [
    "sents = [i.text for i in doc.sents]"
   ]
  },
  {
   "cell_type": "code",
   "execution_count": 39,
   "metadata": {},
   "outputs": [
    {
     "data": {
      "text/plain": [
       "str"
      ]
     },
     "execution_count": 39,
     "output_type": "execute_result",
     "metadata": {}
    }
   ],
   "source": [
    "type(sents[0])"
   ]
  },
  {
   "cell_type": "code",
   "execution_count": 40,
   "metadata": {},
   "outputs": [
    {
     "ename": "KeyboardInterrupt",
     "evalue": "",
     "output_type": "error",
     "traceback": [
      "\u001b[0;31m---------------------------------------------------------------------------\u001b[0m",
      "\u001b[0;31mKeyboardInterrupt\u001b[0m                         Traceback (most recent call last)",
      "\u001b[0;32m<ipython-input-40-bb3f5c5b24a1>\u001b[0m in \u001b[0;36m<module>\u001b[0;34m()\u001b[0m\n\u001b[0;32m----> 1\u001b[0;31m \u001b[0mdf\u001b[0m\u001b[0;34m.\u001b[0m\u001b[0mtext\u001b[0m \u001b[0;34m=\u001b[0m \u001b[0mdf\u001b[0m\u001b[0;34m.\u001b[0m\u001b[0mtext\u001b[0m\u001b[0;34m.\u001b[0m\u001b[0mapply\u001b[0m\u001b[0;34m(\u001b[0m\u001b[0mnlp\u001b[0m\u001b[0;34m)\u001b[0m\u001b[0;34m\u001b[0m\u001b[0m\n\u001b[0m",
      "\u001b[0;32m/Users/Will/anaconda/envs/py34/lib/python3.4/site-packages/pandas/core/series.py\u001b[0m in \u001b[0;36mapply\u001b[0;34m(self, func, convert_dtype, args, **kwds)\u001b[0m\n\u001b[1;32m   2158\u001b[0m             \u001b[0mvalues\u001b[0m \u001b[0;34m=\u001b[0m \u001b[0mlib\u001b[0m\u001b[0;34m.\u001b[0m\u001b[0mmap_infer\u001b[0m\u001b[0;34m(\u001b[0m\u001b[0mvalues\u001b[0m\u001b[0;34m,\u001b[0m \u001b[0mlib\u001b[0m\u001b[0;34m.\u001b[0m\u001b[0mTimestamp\u001b[0m\u001b[0;34m)\u001b[0m\u001b[0;34m\u001b[0m\u001b[0m\n\u001b[1;32m   2159\u001b[0m \u001b[0;34m\u001b[0m\u001b[0m\n\u001b[0;32m-> 2160\u001b[0;31m         \u001b[0mmapped\u001b[0m \u001b[0;34m=\u001b[0m \u001b[0mlib\u001b[0m\u001b[0;34m.\u001b[0m\u001b[0mmap_infer\u001b[0m\u001b[0;34m(\u001b[0m\u001b[0mvalues\u001b[0m\u001b[0;34m,\u001b[0m \u001b[0mf\u001b[0m\u001b[0;34m,\u001b[0m \u001b[0mconvert\u001b[0m\u001b[0;34m=\u001b[0m\u001b[0mconvert_dtype\u001b[0m\u001b[0;34m)\u001b[0m\u001b[0;34m\u001b[0m\u001b[0m\n\u001b[0m\u001b[1;32m   2161\u001b[0m         \u001b[0;32mif\u001b[0m \u001b[0mlen\u001b[0m\u001b[0;34m(\u001b[0m\u001b[0mmapped\u001b[0m\u001b[0;34m)\u001b[0m \u001b[0;32mand\u001b[0m \u001b[0misinstance\u001b[0m\u001b[0;34m(\u001b[0m\u001b[0mmapped\u001b[0m\u001b[0;34m[\u001b[0m\u001b[0;36m0\u001b[0m\u001b[0;34m]\u001b[0m\u001b[0;34m,\u001b[0m \u001b[0mSeries\u001b[0m\u001b[0;34m)\u001b[0m\u001b[0;34m:\u001b[0m\u001b[0;34m\u001b[0m\u001b[0m\n\u001b[1;32m   2162\u001b[0m             \u001b[0;32mfrom\u001b[0m \u001b[0mpandas\u001b[0m\u001b[0;34m.\u001b[0m\u001b[0mcore\u001b[0m\u001b[0;34m.\u001b[0m\u001b[0mframe\u001b[0m \u001b[0;32mimport\u001b[0m \u001b[0mDataFrame\u001b[0m\u001b[0;34m\u001b[0m\u001b[0m\n",
      "\u001b[0;32mpandas/src/inference.pyx\u001b[0m in \u001b[0;36mpandas.lib.map_infer (pandas/lib.c:62187)\u001b[0;34m()\u001b[0m\n",
      "\u001b[0;32m/Users/Will/anaconda/envs/py34/lib/python3.4/site-packages/spacy/language.py\u001b[0m in \u001b[0;36m__call__\u001b[0;34m(self, text, tag, parse, entity)\u001b[0m\n\u001b[1;32m    233\u001b[0m             \u001b[0mself\u001b[0m\u001b[0;34m.\u001b[0m\u001b[0mparser\u001b[0m\u001b[0;34m(\u001b[0m\u001b[0mtokens\u001b[0m\u001b[0;34m)\u001b[0m\u001b[0;34m\u001b[0m\u001b[0m\n\u001b[1;32m    234\u001b[0m         \u001b[0;32mif\u001b[0m \u001b[0mself\u001b[0m\u001b[0;34m.\u001b[0m\u001b[0mentity\u001b[0m \u001b[0;32mand\u001b[0m \u001b[0mentity\u001b[0m\u001b[0;34m:\u001b[0m\u001b[0;34m\u001b[0m\u001b[0m\n\u001b[0;32m--> 235\u001b[0;31m             \u001b[0mself\u001b[0m\u001b[0;34m.\u001b[0m\u001b[0mentity\u001b[0m\u001b[0;34m(\u001b[0m\u001b[0mtokens\u001b[0m\u001b[0;34m)\u001b[0m\u001b[0;34m\u001b[0m\u001b[0m\n\u001b[0m\u001b[1;32m    236\u001b[0m         \u001b[0;32mreturn\u001b[0m \u001b[0mtokens\u001b[0m\u001b[0;34m\u001b[0m\u001b[0m\n\u001b[1;32m    237\u001b[0m \u001b[0;34m\u001b[0m\u001b[0m\n",
      "\u001b[0;31mKeyboardInterrupt\u001b[0m: "
     ]
    }
   ],
   "source": [
    "df.text = df.text.apply(nlp)"
   ]
  },
  {
   "cell_type": "code",
   "execution_count": 52,
   "metadata": {},
   "outputs": [
    {
     "data": {
      "text/plain": [
       "990627"
      ]
     },
     "execution_count": 52,
     "output_type": "execute_result",
     "metadata": {}
    }
   ],
   "source": [
    "len(df.text)"
   ]
  },
  {
   "cell_type": "code",
   "execution_count": 56,
   "metadata": {},
   "outputs": [
    {
     "data": {
      "text/plain": [
       "9906"
      ]
     },
     "execution_count": 56,
     "output_type": "execute_result",
     "metadata": {}
    }
   ],
   "source": [
    "len(sample)"
   ]
  },
  {
   "cell_type": "code",
   "execution_count": 64,
   "metadata": {},
   "outputs": [
    {
     "data": {
      "text/plain": [
       "9906"
      ]
     },
     "execution_count": 64,
     "output_type": "execute_result",
     "metadata": {}
    },
    {
     "name": "stdout",
     "output_type": "stream",
     "text": [
      "time: 2.7 ms\n"
     ]
    }
   ],
   "source": [
    "len(sample)"
   ]
  },
  {
   "cell_type": "code",
   "execution_count": 71,
   "metadata": {},
   "outputs": [
    {
     "name": "stdout",
     "output_type": "stream",
     "text": [
      "time: 7.91 ms\n"
     ]
    }
   ],
   "source": [
    "small_sample = sample.sample(n=1000)"
   ]
  },
  {
   "cell_type": "code",
   "execution_count": 75,
   "metadata": {},
   "outputs": [
    {
     "name": "stdout",
     "output_type": "stream",
     "text": [
      "time: 2.92 s\n"
     ]
    }
   ],
   "source": [
    "parsed = small_sample.apply(nlp, tag=False)"
   ]
  },
  {
   "cell_type": "code",
   "execution_count": 85,
   "metadata": {},
   "outputs": [
    {
     "ename": "AttributeError",
     "evalue": "'spacy.tokens.doc.Doc' object has no attribute 'orth_'",
     "output_type": "error",
     "traceback": [
      "\u001b[0;31m---------------------------------------------------------------------------\u001b[0m",
      "\u001b[0;31mAttributeError\u001b[0m                            Traceback (most recent call last)",
      "\u001b[0;32m<ipython-input-85-bb9ce102cd89>\u001b[0m in \u001b[0;36m<module>\u001b[0;34m()\u001b[0m\n\u001b[0;32m----> 1\u001b[0;31m \u001b[0mparsed\u001b[0m\u001b[0;34m.\u001b[0m\u001b[0mvalues\u001b[0m\u001b[0;34m[\u001b[0m\u001b[0;36m0\u001b[0m\u001b[0;34m]\u001b[0m\u001b[0;34m.\u001b[0m\u001b[0morth_\u001b[0m\u001b[0;34m\u001b[0m\u001b[0m\n\u001b[0m",
      "\u001b[0;31mAttributeError\u001b[0m: 'spacy.tokens.doc.Doc' object has no attribute 'orth_'"
     ]
    },
    {
     "name": "stdout",
     "output_type": "stream",
     "text": [
      "time: 5.5 ms\n"
     ]
    }
   ],
   "source": [
    "parsed.values[0].orth_"
   ]
  },
  {
   "cell_type": "markdown",
   "metadata": {},
   "source": [
    "https://github.com/omarshammas/sentiment_analysis/blob/master/train.py\n",
    "http://omarshammas.com/posts/2013-02-24-Sentiment-Analysis.html"
   ]
  }
 ],
 "metadata": {
  "kernelspec": {
   "display_name": "Python 3",
   "language": "python",
   "name": "python3"
  },
  "language_info": {
   "codemirror_mode": {
    "name": "ipython",
    "version": 3.0
   },
   "file_extension": ".py",
   "mimetype": "text/x-python",
   "name": "python",
   "nbconvert_exporter": "python",
   "pygments_lexer": "ipython3",
   "version": "3.4.3"
  }
 },
 "nbformat": 4,
 "nbformat_minor": 0
}