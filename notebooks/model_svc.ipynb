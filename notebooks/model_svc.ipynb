{
 "cells": [
  {
   "cell_type": "code",
   "execution_count": 1,
   "metadata": {
    "collapsed": true
   },
   "outputs": [],
   "source": [
    "import sys\n",
    "import pandas as pd\n",
    "sys.path.append('../scripts')"
   ]
  },
  {
   "cell_type": "code",
   "execution_count": 2,
   "metadata": {
    "collapsed": true
   },
   "outputs": [],
   "source": [
    "data = pd.read_hdf('../data/test_train.hdf')"
   ]
  },
  {
   "cell_type": "code",
   "execution_count": 3,
   "metadata": {
    "collapsed": true
   },
   "outputs": [],
   "source": [
    "from sklearn.datasets import load_files\n",
    "from sklearn.feature_extraction.text import TfidfVectorizer\n",
    "from sklearn.grid_search import GridSearchCV\n",
    "from sklearn.pipeline import Pipeline\n",
    "from sklearn.svm import LinearSVC"
   ]
  },
  {
   "cell_type": "code",
   "execution_count": 6,
   "metadata": {
    "collapsed": true
   },
   "outputs": [],
   "source": [
    "from string import punctuation\n",
    "\n",
    "def get_text_and_labels(data):\n",
    "    \"\"\"\n",
    "\n",
    "    Returns\n",
    "    -------\n",
    "\n",
    "    \"\"\"\n",
    "    data.loc[data.stars.isin([1,2]), 'target'] = -1\n",
    "    data.loc[data.stars.isin([4,5]), 'target'] = 1\n",
    "    data.loc[data.stars.isin([3]), 'target'] = 0\n",
    "    data = data[['text', 'target']]\n",
    "    for p in punctuation + ' ':\n",
    "        data.text = data.text.str.replace(p, '')\n",
    "\n",
    "    return data"
   ]
  },
  {
   "cell_type": "code",
   "execution_count": 9,
   "metadata": {
    "collapsed": false
   },
   "outputs": [
    {
     "data": {
      "text/plain": [
       "'!\"#$%&\\'()*+,-./:;<=>?@[\\\\]^_`{|}~'"
      ]
     },
     "execution_count": 9,
     "metadata": {},
     "output_type": "execute_result"
    }
   ],
   "source": [
    "punctuation"
   ]
  },
  {
   "cell_type": "code",
   "execution_count": 14,
   "metadata": {
    "collapsed": true
   },
   "outputs": [],
   "source": [
    "data.to_hdf('../data/test_train.hdf', 'df')"
   ]
  },
  {
   "cell_type": "markdown",
   "metadata": {},
   "source": [
    "# Cleaning the Data"
   ]
  },
  {
   "cell_type": "code",
   "execution_count": 13,
   "metadata": {
    "collapsed": false,
    "scrolled": true
   },
   "outputs": [
    {
     "data": {
      "text/plain": [
       "0         this place was delicious  my parents saw a rec...\n",
       "1         cant miss stop for the best fish sandwich in p...\n",
       "2         this place should have a lot more reviews  but...\n",
       "3         this place was very good i found out about emi...\n",
       "4         old schooltraditional mom n pop quality and pe...\n",
       "5         seen this restaurant on 25 best places in pitt...\n",
       "6         wonderful reuben  map shown on yelp page is in...\n",
       "7                                        good fish sandwich\n",
       "8         after a morning of thrift store hunting a frie...\n",
       "9         this is a hidden gem no really it took us fore...\n",
       "10        this would be my local haunt if i were ever to...\n",
       "11        a great townie bar with tasty food and an inte...\n",
       "12        alexions has been around forever  the first ti...\n",
       "13        good for cheap drinks and wings they offer dai...\n",
       "14        what a cool barrestaurant i will no doubt be v...\n",
       "15        awesome drink specials during happy hour fanta...\n",
       "16        good beer selection understaffed for a light m...\n",
       "17        grew up near here the family would always go o...\n",
       "18        very disappointed in the customer service we o...\n",
       "19        let there be no question alexions owns the bes...\n",
       "20        the sandwiches the wings enough said alexions ...\n",
       "21        we met a couple of friends there on a friday a...\n",
       "22        i have never seen a restaurant that has a frow...\n",
       "23        so back in the late 90s there used to be this ...\n",
       "24        ive pretty much been eating at various kings p...\n",
       "25                                                   hoofah\n",
       "26        i heart kings ive always been a fan and this o...\n",
       "27        i arrived around 10 am on a saturday morning  ...\n",
       "28        thisis not the closest kings to us but we ofte...\n",
       "29        two meals on the recommendation of a friend wh...\n",
       "                                ...                        \n",
       "990597    this is only based on 2 things the fries  wing...\n",
       "990598    came here after seeing this new burger place o...\n",
       "990599    i had high hopes for this place when i learned...\n",
       "990600    went to checkers on a friends recommendation t...\n",
       "990601    the food at this place is amazing my favorite ...\n",
       "990602    love this place the portions are generous but ...\n",
       "990603    this is easily one of my favorite places to ea...\n",
       "990604    finally  a place in henderson to get great chi...\n",
       "990605    hmmmnot quite sure what to make of this place ...\n",
       "990606    very cool new spot in the old town scottsdale ...\n",
       "990607    wow  first off the place is gorgeous  hats off...\n",
       "990608    this place is by far the new hot spot in scott...\n",
       "990609    my wife and i live in the area and are pleasan...\n",
       "990610    went for dinner with friends tonight the place...\n",
       "990611    great ambiance absolutely love the decor very ...\n",
       "990612    i visited dakota on a saturday night and had g...\n",
       "990613    revamped buffet at excalibur  i really really ...\n",
       "990614    my family and i decided to go here for our las...\n",
       "990615    buffet was recently open after renovation so m...\n",
       "990616    honestly i expected much much more out of a la...\n",
       "990617    scottsdale beer company has only been open 2 d...\n",
       "990618    just found my new favorite hang out this place...\n",
       "990619    official opening is about a month away however...\n",
       "990620    came in after shopping at neighbor pier 1 impo...\n",
       "990621    this new brew pub has just opened in our neigh...\n",
       "990622    a very welcome addition to central scottsdale ...\n",
       "990623    my first thoughts when i walked in were wow th...\n",
       "990624    this is your restaurant for cuban puerto rican...\n",
       "990625    best hidden secret in vegas great selection to...\n",
       "990626    really disappointing either the place was havi...\n",
       "Name: text, dtype: object"
      ]
     },
     "execution_count": 13,
     "metadata": {},
     "output_type": "execute_result"
    }
   ],
   "source": [
    "data.text[:2]"
   ]
  },
  {
   "cell_type": "code",
   "execution_count": null,
   "metadata": {
    "collapsed": true
   },
   "outputs": [],
   "source": [
    "data.text = data.text.str.lower()"
   ]
  },
  {
   "cell_type": "markdown",
   "metadata": {},
   "source": [
    "## Transforming the predictor"
   ]
  },
  {
   "cell_type": "code",
   "execution_count": null,
   "metadata": {
    "collapsed": true
   },
   "outputs": [],
   "source": [
    "vect = TfidfVectorizer()\n",
    "X = vect.fit_transform(data.text)"
   ]
  },
  {
   "cell_type": "markdown",
   "metadata": {},
   "source": [
    "## Finding the best paramterization of SVC"
   ]
  },
  {
   "cell_type": "code",
   "execution_count": null,
   "metadata": {
    "collapsed": true
   },
   "outputs": [],
   "source": [
    "params = {\"tfidf__ngram_range\": [(1, 1), (1, 2)],\n",
    "          \"svc__C\": [.01, .1, 1, 10, 100]}\n",
    "\n",
    "clf = Pipeline([(\"tfidf\", TfidfVectorizer(sublinear_tf=True)),\n",
    "                (\"svc\", LinearSVC())])\n",
    "\n",
    "gs = GridSearchCV(clf, params, verbose=2, n_jobs=-1)"
   ]
  },
  {
   "cell_type": "code",
   "execution_count": null,
   "metadata": {
    "collapsed": true
   },
   "outputs": [],
   "source": [
    "gs.fit(data.text, data.target)\n",
    "print(gs.best_estimator_)\n",
    "print(gs.best_score_)"
   ]
  },
  {
   "cell_type": "code",
   "execution_count": null,
   "metadata": {
    "collapsed": true
   },
   "outputs": [],
   "source": [
    "sample_X = X[:10000]"
   ]
  },
  {
   "cell_type": "code",
   "execution_count": null,
   "metadata": {
    "collapsed": true
   },
   "outputs": [],
   "source": [
    "sample_y = data.target[:10000]"
   ]
  },
  {
   "cell_type": "code",
   "execution_count": null,
   "metadata": {
    "collapsed": true
   },
   "outputs": [],
   "source": [
    "pred_y = model.predict(X[10000:20000])"
   ]
  },
  {
   "cell_type": "code",
   "execution_count": null,
   "metadata": {
    "collapsed": true
   },
   "outputs": [],
   "source": [
    "len(pred_y), len(data.target[10000:20000])"
   ]
  },
  {
   "cell_type": "code",
   "execution_count": null,
   "metadata": {
    "collapsed": true
   },
   "outputs": [],
   "source": [
    "model.score(X[10000:20000], data.target[10000:20000])"
   ]
  },
  {
   "cell_type": "code",
   "execution_count": null,
   "metadata": {
    "collapsed": true
   },
   "outputs": [],
   "source": [
    "from sklearn.metrics import confusion_matrix"
   ]
  },
  {
   "cell_type": "code",
   "execution_count": null,
   "metadata": {
    "collapsed": true
   },
   "outputs": [],
   "source": [
    "confusion_matrix(data.target[10000:20000],pred_y)"
   ]
  },
  {
   "cell_type": "code",
   "execution_count": null,
   "metadata": {
    "collapsed": true
   },
   "outputs": [],
   "source": [
    "cm = confusion_matrix(data.target[10000:20000],pred_y)"
   ]
  },
  {
   "cell_type": "markdown",
   "metadata": {},
   "source": [
    "## Making the Confusion Matrix"
   ]
  },
  {
   "cell_type": "code",
   "execution_count": null,
   "metadata": {
    "collapsed": true
   },
   "outputs": [],
   "source": [
    "%pylab inline\n",
    "def plot_confusion_matrix(cm, title='Confusion matrix', cmap=plt.cm.Blues):\n",
    "    plt.imshow(cm, interpolation='nearest', cmap=cmap)\n",
    "    plt.title(title)\n",
    "    plt.colorbar()\n",
    "    tick_marks = np.arange(len(data.target.unique()))\n",
    "    plt.xticks(tick_marks, [-1,0,1], rotation=45)\n",
    "    plt.yticks(tick_marks, [-1,0,1])\n",
    "    plt.tight_layout()\n",
    "    plt.ylabel('True label')\n",
    "    plt.xlabel('Predicted label')"
   ]
  },
  {
   "cell_type": "code",
   "execution_count": null,
   "metadata": {
    "collapsed": true
   },
   "outputs": [],
   "source": [
    "plot_confusion_matrix(cm)"
   ]
  },
  {
   "cell_type": "code",
   "execution_count": null,
   "metadata": {
    "collapsed": true
   },
   "outputs": [],
   "source": [
    "cm_normalized = cm.astype('float') / cm.sum(axis=1)[:, np.newaxis]"
   ]
  },
  {
   "cell_type": "code",
   "execution_count": null,
   "metadata": {
    "collapsed": true
   },
   "outputs": [],
   "source": [
    "plot_confusion_matrix(cm_normalized)"
   ]
  },
  {
   "cell_type": "markdown",
   "metadata": {},
   "source": [
    "# Making the Model work regularly"
   ]
  },
  {
   "cell_type": "markdown",
   "metadata": {},
   "source": [
    "1. Train the tf-idf vector on the entire dataset\n",
    "2. Make an imputer that is fit to the entire dataset\n",
    "3. vectorize the train and the test sets\n",
    "4. transform the test and the train sets with the imp.trasnform funciton\n",
    "5. Build the model\n",
    "6. Predict the thing"
   ]
  },
  {
   "cell_type": "code",
   "execution_count": 18,
   "metadata": {
    "collapsed": true
   },
   "outputs": [],
   "source": [
    "from sklearn.ensemble import RandomForestRegressor\n",
    "from sklearn.preprocessing import Imputer\n",
    "from sklearn.cross_validation import train_test_split"
   ]
  },
  {
   "cell_type": "markdown",
   "metadata": {},
   "source": [
    "This was uneccessary. It should have been just `fit_transform` on the "
   ]
  },
  {
   "cell_type": "code",
   "execution_count": 16,
   "metadata": {
    "collapsed": true
   },
   "outputs": [],
   "source": [
    "vect = TfidfVectorizer()\n",
    "X = vect.fit_transform(data.text)"
   ]
  },
  {
   "cell_type": "code",
   "execution_count": null,
   "metadata": {
    "collapsed": true
   },
   "outputs": [],
   "source": [
    "imp.fit(X)\n",
    "imp = Imputer(missing_values='NaN', strategy='median', axis=0)"
   ]
  },
  {
   "cell_type": "code",
   "execution_count": 19,
   "metadata": {
    "collapsed": true
   },
   "outputs": [],
   "source": [
    "X_train, X_test, y_train, y_test = train_test_split(data.text, data.target, \n",
    "                                                    test_size=0.1, random_state=123)"
   ]
  },
  {
   "cell_type": "code",
   "execution_count": 26,
   "metadata": {
    "collapsed": true
   },
   "outputs": [],
   "source": [
    "X_train = vect.transform(X_train)\n",
    "X_test = vect.transform(X_test)"
   ]
  },
  {
   "cell_type": "markdown",
   "metadata": {},
   "source": [
    "Should have made sure that the thing worked above and that the function was working alright"
   ]
  },
  {
   "cell_type": "code",
   "execution_count": 34,
   "metadata": {
    "collapsed": true
   },
   "outputs": [],
   "source": [
    "assert X_train.shape[1] ==  X_test.shape[1]"
   ]
  },
  {
   "cell_type": "code",
   "execution_count": 35,
   "metadata": {
    "collapsed": false
   },
   "outputs": [
    {
     "data": {
      "text/plain": [
       "<891564x540472 sparse matrix of type '<class 'numpy.float64'>'\n",
       "\twith 69215180 stored elements in Compressed Sparse Row format>"
      ]
     },
     "execution_count": 35,
     "metadata": {},
     "output_type": "execute_result"
    }
   ],
   "source": [
    "X_train"
   ]
  },
  {
   "cell_type": "markdown",
   "metadata": {},
   "source": [
    "# Trying Random Forests"
   ]
  },
  {
   "cell_type": "code",
   "execution_count": 36,
   "metadata": {
    "collapsed": true
   },
   "outputs": [],
   "source": [
    "def train_rf_reg(X, y):\n",
    "    rf = RandomForestRegressor(n_estimators=100, max_features='sqrt',\n",
    "                               n_jobs=-1, min_samples_leaf=4)\n",
    "    return rf.fit(X, y)"
   ]
  },
  {
   "cell_type": "code",
   "execution_count": 37,
   "metadata": {
    "collapsed": true
   },
   "outputs": [],
   "source": [
    "from sklearn.externals import joblib"
   ]
  },
  {
   "cell_type": "code",
   "execution_count": 38,
   "metadata": {
    "collapsed": false
   },
   "outputs": [
    {
     "name": "stdout",
     "output_type": "stream",
     "text": [
      "finished vectorizing\n"
     ]
    },
    {
     "data": {
      "text/plain": [
       "['../model/rf.pkl',\n",
       " '../model/rf.pkl_01.npy',\n",
       " '../model/rf.pkl_02.npy',\n",
       " '../model/rf.pkl_03.npy',\n",
       " '../model/rf.pkl_04.npy',\n",
       " '../model/rf.pkl_05.npy',\n",
       " '../model/rf.pkl_06.npy',\n",
       " '../model/rf.pkl_07.npy',\n",
       " '../model/rf.pkl_08.npy',\n",
       " '../model/rf.pkl_09.npy',\n",
       " '../model/rf.pkl_10.npy',\n",
       " '../model/rf.pkl_11.npy',\n",
       " '../model/rf.pkl_12.npy',\n",
       " '../model/rf.pkl_13.npy',\n",
       " '../model/rf.pkl_14.npy',\n",
       " '../model/rf.pkl_15.npy',\n",
       " '../model/rf.pkl_16.npy',\n",
       " '../model/rf.pkl_17.npy',\n",
       " '../model/rf.pkl_18.npy',\n",
       " '../model/rf.pkl_19.npy',\n",
       " '../model/rf.pkl_20.npy',\n",
       " '../model/rf.pkl_21.npy',\n",
       " '../model/rf.pkl_22.npy',\n",
       " '../model/rf.pkl_23.npy',\n",
       " '../model/rf.pkl_24.npy',\n",
       " '../model/rf.pkl_25.npy',\n",
       " '../model/rf.pkl_26.npy',\n",
       " '../model/rf.pkl_27.npy',\n",
       " '../model/rf.pkl_28.npy',\n",
       " '../model/rf.pkl_29.npy',\n",
       " '../model/rf.pkl_30.npy',\n",
       " '../model/rf.pkl_31.npy',\n",
       " '../model/rf.pkl_32.npy',\n",
       " '../model/rf.pkl_33.npy',\n",
       " '../model/rf.pkl_34.npy',\n",
       " '../model/rf.pkl_35.npy',\n",
       " '../model/rf.pkl_36.npy',\n",
       " '../model/rf.pkl_37.npy',\n",
       " '../model/rf.pkl_38.npy',\n",
       " '../model/rf.pkl_39.npy',\n",
       " '../model/rf.pkl_40.npy',\n",
       " '../model/rf.pkl_41.npy',\n",
       " '../model/rf.pkl_42.npy',\n",
       " '../model/rf.pkl_43.npy',\n",
       " '../model/rf.pkl_44.npy',\n",
       " '../model/rf.pkl_45.npy',\n",
       " '../model/rf.pkl_46.npy',\n",
       " '../model/rf.pkl_47.npy',\n",
       " '../model/rf.pkl_48.npy',\n",
       " '../model/rf.pkl_49.npy',\n",
       " '../model/rf.pkl_50.npy',\n",
       " '../model/rf.pkl_51.npy',\n",
       " '../model/rf.pkl_52.npy',\n",
       " '../model/rf.pkl_53.npy',\n",
       " '../model/rf.pkl_54.npy',\n",
       " '../model/rf.pkl_55.npy',\n",
       " '../model/rf.pkl_56.npy',\n",
       " '../model/rf.pkl_57.npy',\n",
       " '../model/rf.pkl_58.npy',\n",
       " '../model/rf.pkl_59.npy',\n",
       " '../model/rf.pkl_60.npy',\n",
       " '../model/rf.pkl_61.npy',\n",
       " '../model/rf.pkl_62.npy',\n",
       " '../model/rf.pkl_63.npy',\n",
       " '../model/rf.pkl_64.npy',\n",
       " '../model/rf.pkl_65.npy',\n",
       " '../model/rf.pkl_66.npy',\n",
       " '../model/rf.pkl_67.npy',\n",
       " '../model/rf.pkl_68.npy',\n",
       " '../model/rf.pkl_69.npy',\n",
       " '../model/rf.pkl_70.npy',\n",
       " '../model/rf.pkl_71.npy',\n",
       " '../model/rf.pkl_72.npy',\n",
       " '../model/rf.pkl_73.npy',\n",
       " '../model/rf.pkl_74.npy',\n",
       " '../model/rf.pkl_75.npy',\n",
       " '../model/rf.pkl_76.npy',\n",
       " '../model/rf.pkl_77.npy',\n",
       " '../model/rf.pkl_78.npy',\n",
       " '../model/rf.pkl_79.npy',\n",
       " '../model/rf.pkl_80.npy',\n",
       " '../model/rf.pkl_81.npy',\n",
       " '../model/rf.pkl_82.npy',\n",
       " '../model/rf.pkl_83.npy',\n",
       " '../model/rf.pkl_84.npy',\n",
       " '../model/rf.pkl_85.npy',\n",
       " '../model/rf.pkl_86.npy',\n",
       " '../model/rf.pkl_87.npy',\n",
       " '../model/rf.pkl_88.npy',\n",
       " '../model/rf.pkl_89.npy',\n",
       " '../model/rf.pkl_90.npy',\n",
       " '../model/rf.pkl_91.npy',\n",
       " '../model/rf.pkl_92.npy',\n",
       " '../model/rf.pkl_93.npy',\n",
       " '../model/rf.pkl_94.npy',\n",
       " '../model/rf.pkl_95.npy',\n",
       " '../model/rf.pkl_96.npy',\n",
       " '../model/rf.pkl_97.npy',\n",
       " '../model/rf.pkl_98.npy',\n",
       " '../model/rf.pkl_99.npy',\n",
       " '../model/rf.pkl_100.npy',\n",
       " '../model/rf.pkl_101.npy',\n",
       " '../model/rf.pkl_102.npy',\n",
       " '../model/rf.pkl_103.npy',\n",
       " '../model/rf.pkl_104.npy',\n",
       " '../model/rf.pkl_105.npy',\n",
       " '../model/rf.pkl_106.npy',\n",
       " '../model/rf.pkl_107.npy',\n",
       " '../model/rf.pkl_108.npy',\n",
       " '../model/rf.pkl_109.npy',\n",
       " '../model/rf.pkl_110.npy',\n",
       " '../model/rf.pkl_111.npy',\n",
       " '../model/rf.pkl_112.npy',\n",
       " '../model/rf.pkl_113.npy',\n",
       " '../model/rf.pkl_114.npy',\n",
       " '../model/rf.pkl_115.npy',\n",
       " '../model/rf.pkl_116.npy',\n",
       " '../model/rf.pkl_117.npy',\n",
       " '../model/rf.pkl_118.npy',\n",
       " '../model/rf.pkl_119.npy',\n",
       " '../model/rf.pkl_120.npy',\n",
       " '../model/rf.pkl_121.npy',\n",
       " '../model/rf.pkl_122.npy',\n",
       " '../model/rf.pkl_123.npy',\n",
       " '../model/rf.pkl_124.npy',\n",
       " '../model/rf.pkl_125.npy',\n",
       " '../model/rf.pkl_126.npy',\n",
       " '../model/rf.pkl_127.npy',\n",
       " '../model/rf.pkl_128.npy',\n",
       " '../model/rf.pkl_129.npy',\n",
       " '../model/rf.pkl_130.npy',\n",
       " '../model/rf.pkl_131.npy',\n",
       " '../model/rf.pkl_132.npy',\n",
       " '../model/rf.pkl_133.npy',\n",
       " '../model/rf.pkl_134.npy',\n",
       " '../model/rf.pkl_135.npy',\n",
       " '../model/rf.pkl_136.npy',\n",
       " '../model/rf.pkl_137.npy',\n",
       " '../model/rf.pkl_138.npy',\n",
       " '../model/rf.pkl_139.npy',\n",
       " '../model/rf.pkl_140.npy',\n",
       " '../model/rf.pkl_141.npy',\n",
       " '../model/rf.pkl_142.npy',\n",
       " '../model/rf.pkl_143.npy',\n",
       " '../model/rf.pkl_144.npy',\n",
       " '../model/rf.pkl_145.npy',\n",
       " '../model/rf.pkl_146.npy',\n",
       " '../model/rf.pkl_147.npy',\n",
       " '../model/rf.pkl_148.npy',\n",
       " '../model/rf.pkl_149.npy',\n",
       " '../model/rf.pkl_150.npy',\n",
       " '../model/rf.pkl_151.npy',\n",
       " '../model/rf.pkl_152.npy',\n",
       " '../model/rf.pkl_153.npy',\n",
       " '../model/rf.pkl_154.npy',\n",
       " '../model/rf.pkl_155.npy',\n",
       " '../model/rf.pkl_156.npy',\n",
       " '../model/rf.pkl_157.npy',\n",
       " '../model/rf.pkl_158.npy',\n",
       " '../model/rf.pkl_159.npy',\n",
       " '../model/rf.pkl_160.npy',\n",
       " '../model/rf.pkl_161.npy',\n",
       " '../model/rf.pkl_162.npy',\n",
       " '../model/rf.pkl_163.npy',\n",
       " '../model/rf.pkl_164.npy',\n",
       " '../model/rf.pkl_165.npy',\n",
       " '../model/rf.pkl_166.npy',\n",
       " '../model/rf.pkl_167.npy',\n",
       " '../model/rf.pkl_168.npy',\n",
       " '../model/rf.pkl_169.npy',\n",
       " '../model/rf.pkl_170.npy',\n",
       " '../model/rf.pkl_171.npy',\n",
       " '../model/rf.pkl_172.npy',\n",
       " '../model/rf.pkl_173.npy',\n",
       " '../model/rf.pkl_174.npy',\n",
       " '../model/rf.pkl_175.npy',\n",
       " '../model/rf.pkl_176.npy',\n",
       " '../model/rf.pkl_177.npy',\n",
       " '../model/rf.pkl_178.npy',\n",
       " '../model/rf.pkl_179.npy',\n",
       " '../model/rf.pkl_180.npy',\n",
       " '../model/rf.pkl_181.npy',\n",
       " '../model/rf.pkl_182.npy',\n",
       " '../model/rf.pkl_183.npy',\n",
       " '../model/rf.pkl_184.npy',\n",
       " '../model/rf.pkl_185.npy',\n",
       " '../model/rf.pkl_186.npy',\n",
       " '../model/rf.pkl_187.npy',\n",
       " '../model/rf.pkl_188.npy',\n",
       " '../model/rf.pkl_189.npy',\n",
       " '../model/rf.pkl_190.npy',\n",
       " '../model/rf.pkl_191.npy',\n",
       " '../model/rf.pkl_192.npy',\n",
       " '../model/rf.pkl_193.npy',\n",
       " '../model/rf.pkl_194.npy',\n",
       " '../model/rf.pkl_195.npy',\n",
       " '../model/rf.pkl_196.npy',\n",
       " '../model/rf.pkl_197.npy',\n",
       " '../model/rf.pkl_198.npy',\n",
       " '../model/rf.pkl_199.npy',\n",
       " '../model/rf.pkl_200.npy',\n",
       " '../model/rf.pkl_201.npy',\n",
       " '../model/rf.pkl_202.npy',\n",
       " '../model/rf.pkl_203.npy',\n",
       " '../model/rf.pkl_204.npy',\n",
       " '../model/rf.pkl_205.npy',\n",
       " '../model/rf.pkl_206.npy',\n",
       " '../model/rf.pkl_207.npy',\n",
       " '../model/rf.pkl_208.npy',\n",
       " '../model/rf.pkl_209.npy',\n",
       " '../model/rf.pkl_210.npy',\n",
       " '../model/rf.pkl_211.npy',\n",
       " '../model/rf.pkl_212.npy',\n",
       " '../model/rf.pkl_213.npy',\n",
       " '../model/rf.pkl_214.npy',\n",
       " '../model/rf.pkl_215.npy',\n",
       " '../model/rf.pkl_216.npy',\n",
       " '../model/rf.pkl_217.npy',\n",
       " '../model/rf.pkl_218.npy',\n",
       " '../model/rf.pkl_219.npy',\n",
       " '../model/rf.pkl_220.npy',\n",
       " '../model/rf.pkl_221.npy',\n",
       " '../model/rf.pkl_222.npy',\n",
       " '../model/rf.pkl_223.npy',\n",
       " '../model/rf.pkl_224.npy',\n",
       " '../model/rf.pkl_225.npy',\n",
       " '../model/rf.pkl_226.npy',\n",
       " '../model/rf.pkl_227.npy',\n",
       " '../model/rf.pkl_228.npy',\n",
       " '../model/rf.pkl_229.npy',\n",
       " '../model/rf.pkl_230.npy',\n",
       " '../model/rf.pkl_231.npy',\n",
       " '../model/rf.pkl_232.npy',\n",
       " '../model/rf.pkl_233.npy',\n",
       " '../model/rf.pkl_234.npy',\n",
       " '../model/rf.pkl_235.npy',\n",
       " '../model/rf.pkl_236.npy',\n",
       " '../model/rf.pkl_237.npy',\n",
       " '../model/rf.pkl_238.npy',\n",
       " '../model/rf.pkl_239.npy',\n",
       " '../model/rf.pkl_240.npy',\n",
       " '../model/rf.pkl_241.npy',\n",
       " '../model/rf.pkl_242.npy',\n",
       " '../model/rf.pkl_243.npy',\n",
       " '../model/rf.pkl_244.npy',\n",
       " '../model/rf.pkl_245.npy',\n",
       " '../model/rf.pkl_246.npy',\n",
       " '../model/rf.pkl_247.npy',\n",
       " '../model/rf.pkl_248.npy',\n",
       " '../model/rf.pkl_249.npy',\n",
       " '../model/rf.pkl_250.npy',\n",
       " '../model/rf.pkl_251.npy',\n",
       " '../model/rf.pkl_252.npy',\n",
       " '../model/rf.pkl_253.npy',\n",
       " '../model/rf.pkl_254.npy',\n",
       " '../model/rf.pkl_255.npy',\n",
       " '../model/rf.pkl_256.npy',\n",
       " '../model/rf.pkl_257.npy',\n",
       " '../model/rf.pkl_258.npy',\n",
       " '../model/rf.pkl_259.npy',\n",
       " '../model/rf.pkl_260.npy',\n",
       " '../model/rf.pkl_261.npy',\n",
       " '../model/rf.pkl_262.npy',\n",
       " '../model/rf.pkl_263.npy',\n",
       " '../model/rf.pkl_264.npy',\n",
       " '../model/rf.pkl_265.npy',\n",
       " '../model/rf.pkl_266.npy',\n",
       " '../model/rf.pkl_267.npy',\n",
       " '../model/rf.pkl_268.npy',\n",
       " '../model/rf.pkl_269.npy',\n",
       " '../model/rf.pkl_270.npy',\n",
       " '../model/rf.pkl_271.npy',\n",
       " '../model/rf.pkl_272.npy',\n",
       " '../model/rf.pkl_273.npy',\n",
       " '../model/rf.pkl_274.npy',\n",
       " '../model/rf.pkl_275.npy',\n",
       " '../model/rf.pkl_276.npy',\n",
       " '../model/rf.pkl_277.npy',\n",
       " '../model/rf.pkl_278.npy',\n",
       " '../model/rf.pkl_279.npy',\n",
       " '../model/rf.pkl_280.npy',\n",
       " '../model/rf.pkl_281.npy',\n",
       " '../model/rf.pkl_282.npy',\n",
       " '../model/rf.pkl_283.npy',\n",
       " '../model/rf.pkl_284.npy',\n",
       " '../model/rf.pkl_285.npy',\n",
       " '../model/rf.pkl_286.npy',\n",
       " '../model/rf.pkl_287.npy',\n",
       " '../model/rf.pkl_288.npy',\n",
       " '../model/rf.pkl_289.npy',\n",
       " '../model/rf.pkl_290.npy',\n",
       " '../model/rf.pkl_291.npy',\n",
       " '../model/rf.pkl_292.npy',\n",
       " '../model/rf.pkl_293.npy',\n",
       " '../model/rf.pkl_294.npy',\n",
       " '../model/rf.pkl_295.npy',\n",
       " '../model/rf.pkl_296.npy',\n",
       " '../model/rf.pkl_297.npy',\n",
       " '../model/rf.pkl_298.npy',\n",
       " '../model/rf.pkl_299.npy',\n",
       " '../model/rf.pkl_300.npy',\n",
       " '../model/rf.pkl_301.npy',\n",
       " '../model/rf.pkl_302.npy',\n",
       " '../model/rf.pkl_303.npy',\n",
       " '../model/rf.pkl_304.npy',\n",
       " '../model/rf.pkl_305.npy',\n",
       " '../model/rf.pkl_306.npy',\n",
       " '../model/rf.pkl_307.npy',\n",
       " '../model/rf.pkl_308.npy',\n",
       " '../model/rf.pkl_309.npy',\n",
       " '../model/rf.pkl_310.npy',\n",
       " '../model/rf.pkl_311.npy',\n",
       " '../model/rf.pkl_312.npy',\n",
       " '../model/rf.pkl_313.npy',\n",
       " '../model/rf.pkl_314.npy',\n",
       " '../model/rf.pkl_315.npy',\n",
       " '../model/rf.pkl_316.npy',\n",
       " '../model/rf.pkl_317.npy',\n",
       " '../model/rf.pkl_318.npy',\n",
       " '../model/rf.pkl_319.npy',\n",
       " '../model/rf.pkl_320.npy',\n",
       " '../model/rf.pkl_321.npy',\n",
       " '../model/rf.pkl_322.npy',\n",
       " '../model/rf.pkl_323.npy',\n",
       " '../model/rf.pkl_324.npy',\n",
       " '../model/rf.pkl_325.npy',\n",
       " '../model/rf.pkl_326.npy',\n",
       " '../model/rf.pkl_327.npy',\n",
       " '../model/rf.pkl_328.npy',\n",
       " '../model/rf.pkl_329.npy',\n",
       " '../model/rf.pkl_330.npy',\n",
       " '../model/rf.pkl_331.npy',\n",
       " '../model/rf.pkl_332.npy',\n",
       " '../model/rf.pkl_333.npy',\n",
       " '../model/rf.pkl_334.npy',\n",
       " '../model/rf.pkl_335.npy',\n",
       " '../model/rf.pkl_336.npy',\n",
       " '../model/rf.pkl_337.npy',\n",
       " '../model/rf.pkl_338.npy',\n",
       " '../model/rf.pkl_339.npy',\n",
       " '../model/rf.pkl_340.npy',\n",
       " '../model/rf.pkl_341.npy',\n",
       " '../model/rf.pkl_342.npy',\n",
       " '../model/rf.pkl_343.npy',\n",
       " '../model/rf.pkl_344.npy',\n",
       " '../model/rf.pkl_345.npy',\n",
       " '../model/rf.pkl_346.npy',\n",
       " '../model/rf.pkl_347.npy',\n",
       " '../model/rf.pkl_348.npy',\n",
       " '../model/rf.pkl_349.npy',\n",
       " '../model/rf.pkl_350.npy',\n",
       " '../model/rf.pkl_351.npy',\n",
       " '../model/rf.pkl_352.npy',\n",
       " '../model/rf.pkl_353.npy',\n",
       " '../model/rf.pkl_354.npy',\n",
       " '../model/rf.pkl_355.npy',\n",
       " '../model/rf.pkl_356.npy',\n",
       " '../model/rf.pkl_357.npy',\n",
       " '../model/rf.pkl_358.npy',\n",
       " '../model/rf.pkl_359.npy',\n",
       " '../model/rf.pkl_360.npy',\n",
       " '../model/rf.pkl_361.npy',\n",
       " '../model/rf.pkl_362.npy',\n",
       " '../model/rf.pkl_363.npy',\n",
       " '../model/rf.pkl_364.npy',\n",
       " '../model/rf.pkl_365.npy',\n",
       " '../model/rf.pkl_366.npy',\n",
       " '../model/rf.pkl_367.npy',\n",
       " '../model/rf.pkl_368.npy',\n",
       " '../model/rf.pkl_369.npy',\n",
       " '../model/rf.pkl_370.npy',\n",
       " '../model/rf.pkl_371.npy',\n",
       " '../model/rf.pkl_372.npy',\n",
       " '../model/rf.pkl_373.npy',\n",
       " '../model/rf.pkl_374.npy',\n",
       " '../model/rf.pkl_375.npy',\n",
       " '../model/rf.pkl_376.npy',\n",
       " '../model/rf.pkl_377.npy',\n",
       " '../model/rf.pkl_378.npy',\n",
       " '../model/rf.pkl_379.npy',\n",
       " '../model/rf.pkl_380.npy',\n",
       " '../model/rf.pkl_381.npy',\n",
       " '../model/rf.pkl_382.npy',\n",
       " '../model/rf.pkl_383.npy',\n",
       " '../model/rf.pkl_384.npy',\n",
       " '../model/rf.pkl_385.npy',\n",
       " '../model/rf.pkl_386.npy',\n",
       " '../model/rf.pkl_387.npy',\n",
       " '../model/rf.pkl_388.npy',\n",
       " '../model/rf.pkl_389.npy',\n",
       " '../model/rf.pkl_390.npy',\n",
       " '../model/rf.pkl_391.npy',\n",
       " '../model/rf.pkl_392.npy',\n",
       " '../model/rf.pkl_393.npy',\n",
       " '../model/rf.pkl_394.npy',\n",
       " '../model/rf.pkl_395.npy',\n",
       " '../model/rf.pkl_396.npy',\n",
       " '../model/rf.pkl_397.npy',\n",
       " '../model/rf.pkl_398.npy',\n",
       " '../model/rf.pkl_399.npy',\n",
       " '../model/rf.pkl_400.npy']"
      ]
     },
     "execution_count": 38,
     "metadata": {},
     "output_type": "execute_result"
    }
   ],
   "source": [
    "model = train_rf_reg(X_train, y_train)\n",
    "joblib.dump(model, '../model/rf.pkl');"
   ]
  },
  {
   "cell_type": "code",
   "execution_count": 24,
   "metadata": {
    "collapsed": true
   },
   "outputs": [],
   "source": [
    "model = joblib.load('../model/rf.pkl')"
   ]
  },
  {
   "cell_type": "code",
   "execution_count": 39,
   "metadata": {
    "collapsed": true
   },
   "outputs": [],
   "source": [
    "preds = model.predict(X_test)"
   ]
  },
  {
   "cell_type": "code",
   "execution_count": null,
   "metadata": {
    "collapsed": true
   },
   "outputs": [],
   "source": []
  }
 ],
 "metadata": {
  "kernelspec": {
   "display_name": "Python 3",
   "language": "python",
   "name": "python3"
  },
  "language_info": {
   "codemirror_mode": {
    "name": "ipython",
    "version": 3
   },
   "file_extension": ".py",
   "mimetype": "text/x-python",
   "name": "python",
   "nbconvert_exporter": "python",
   "pygments_lexer": "ipython3",
   "version": "3.4.3"
  }
 },
 "nbformat": 4,
 "nbformat_minor": 0
}
